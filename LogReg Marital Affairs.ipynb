{
 "cells": [
  {
   "cell_type": "code",
   "execution_count": 8,
   "metadata": {},
   "outputs": [
    {
     "ename": "NameError",
     "evalue": "name 'install' is not defined",
     "output_type": "error",
     "traceback": [
      "\u001b[1;31m---------------------------------------------------------------------------\u001b[0m",
      "\u001b[1;31mNameError\u001b[0m                                 Traceback (most recent call last)",
      "\u001b[1;32m<ipython-input-8-41fd4ef3a657>\u001b[0m in \u001b[0;36m<module>\u001b[1;34m\u001b[0m\n\u001b[0;32m      2\u001b[0m \u001b[1;32mimport\u001b[0m \u001b[0mnumpy\u001b[0m \u001b[1;32mas\u001b[0m \u001b[0mnp\u001b[0m\u001b[1;33m\u001b[0m\u001b[1;33m\u001b[0m\u001b[0m\n\u001b[0;32m      3\u001b[0m \u001b[1;32mimport\u001b[0m \u001b[0mmatplotlib\u001b[0m\u001b[1;33m.\u001b[0m\u001b[0mpyplot\u001b[0m \u001b[1;32mas\u001b[0m \u001b[0mplt\u001b[0m\u001b[1;33m\u001b[0m\u001b[1;33m\u001b[0m\u001b[0m\n\u001b[1;32m----> 4\u001b[1;33m \u001b[0minstall\u001b[0m\u001b[1;33m.\u001b[0m\u001b[0mpackages\u001b[0m\u001b[1;33m(\u001b[0m\u001b[1;34m'AER'\u001b[0m\u001b[1;33m)\u001b[0m\u001b[1;33m\u001b[0m\u001b[1;33m\u001b[0m\u001b[0m\n\u001b[0m\u001b[0;32m      5\u001b[0m \u001b[0mdata\u001b[0m\u001b[1;33m(\u001b[0m\u001b[0mAffairs\u001b[0m\u001b[1;33m,\u001b[0m\u001b[0mpackage\u001b[0m\u001b[1;33m=\u001b[0m\u001b[1;34m\"AER\"\u001b[0m\u001b[1;33m)\u001b[0m\u001b[1;33m\u001b[0m\u001b[1;33m\u001b[0m\u001b[0m\n",
      "\u001b[1;31mNameError\u001b[0m: name 'install' is not defined"
     ]
    }
   ],
   "source": [
    "import pandas as pd\n",
    "import numpy as np\n",
    "import matplotlib.pyplot as plt"
   ]
  },
  {
   "cell_type": "code",
   "execution_count": 11,
   "metadata": {},
   "outputs": [
    {
     "data": {
      "text/html": [
       "<div>\n",
       "<style scoped>\n",
       "    .dataframe tbody tr th:only-of-type {\n",
       "        vertical-align: middle;\n",
       "    }\n",
       "\n",
       "    .dataframe tbody tr th {\n",
       "        vertical-align: top;\n",
       "    }\n",
       "\n",
       "    .dataframe thead th {\n",
       "        text-align: right;\n",
       "    }\n",
       "</style>\n",
       "<table border=\"1\" class=\"dataframe\">\n",
       "  <thead>\n",
       "    <tr style=\"text-align: right;\">\n",
       "      <th></th>\n",
       "      <th>Unnamed: 0</th>\n",
       "      <th>affairs</th>\n",
       "      <th>gender</th>\n",
       "      <th>age</th>\n",
       "      <th>yearsmarried</th>\n",
       "      <th>children</th>\n",
       "      <th>religiousness</th>\n",
       "      <th>education</th>\n",
       "      <th>occupation</th>\n",
       "      <th>rating</th>\n",
       "    </tr>\n",
       "  </thead>\n",
       "  <tbody>\n",
       "    <tr>\n",
       "      <th>0</th>\n",
       "      <td>4</td>\n",
       "      <td>0</td>\n",
       "      <td>male</td>\n",
       "      <td>37.0</td>\n",
       "      <td>10.00</td>\n",
       "      <td>no</td>\n",
       "      <td>3</td>\n",
       "      <td>18</td>\n",
       "      <td>7</td>\n",
       "      <td>4</td>\n",
       "    </tr>\n",
       "    <tr>\n",
       "      <th>1</th>\n",
       "      <td>5</td>\n",
       "      <td>0</td>\n",
       "      <td>female</td>\n",
       "      <td>27.0</td>\n",
       "      <td>4.00</td>\n",
       "      <td>no</td>\n",
       "      <td>4</td>\n",
       "      <td>14</td>\n",
       "      <td>6</td>\n",
       "      <td>4</td>\n",
       "    </tr>\n",
       "    <tr>\n",
       "      <th>2</th>\n",
       "      <td>11</td>\n",
       "      <td>0</td>\n",
       "      <td>female</td>\n",
       "      <td>32.0</td>\n",
       "      <td>15.00</td>\n",
       "      <td>yes</td>\n",
       "      <td>1</td>\n",
       "      <td>12</td>\n",
       "      <td>1</td>\n",
       "      <td>4</td>\n",
       "    </tr>\n",
       "    <tr>\n",
       "      <th>3</th>\n",
       "      <td>16</td>\n",
       "      <td>0</td>\n",
       "      <td>male</td>\n",
       "      <td>57.0</td>\n",
       "      <td>15.00</td>\n",
       "      <td>yes</td>\n",
       "      <td>5</td>\n",
       "      <td>18</td>\n",
       "      <td>6</td>\n",
       "      <td>5</td>\n",
       "    </tr>\n",
       "    <tr>\n",
       "      <th>4</th>\n",
       "      <td>23</td>\n",
       "      <td>0</td>\n",
       "      <td>male</td>\n",
       "      <td>22.0</td>\n",
       "      <td>0.75</td>\n",
       "      <td>no</td>\n",
       "      <td>2</td>\n",
       "      <td>17</td>\n",
       "      <td>6</td>\n",
       "      <td>3</td>\n",
       "    </tr>\n",
       "  </tbody>\n",
       "</table>\n",
       "</div>"
      ],
      "text/plain": [
       "   Unnamed: 0  affairs  gender   age  yearsmarried children  religiousness  \\\n",
       "0           4        0    male  37.0         10.00       no              3   \n",
       "1           5        0  female  27.0          4.00       no              4   \n",
       "2          11        0  female  32.0         15.00      yes              1   \n",
       "3          16        0    male  57.0         15.00      yes              5   \n",
       "4          23        0    male  22.0          0.75       no              2   \n",
       "\n",
       "   education  occupation  rating  \n",
       "0         18           7       4  \n",
       "1         14           6       4  \n",
       "2         12           1       4  \n",
       "3         18           6       5  \n",
       "4         17           6       3  "
      ]
     },
     "execution_count": 11,
     "metadata": {},
     "output_type": "execute_result"
    }
   ],
   "source": [
    "affairs=pd.read_csv('AffairsR.csv')\n",
    "affairs.head()"
   ]
  },
  {
   "cell_type": "code",
   "execution_count": 12,
   "metadata": {},
   "outputs": [
    {
     "data": {
      "text/html": [
       "<div>\n",
       "<style scoped>\n",
       "    .dataframe tbody tr th:only-of-type {\n",
       "        vertical-align: middle;\n",
       "    }\n",
       "\n",
       "    .dataframe tbody tr th {\n",
       "        vertical-align: top;\n",
       "    }\n",
       "\n",
       "    .dataframe thead th {\n",
       "        text-align: right;\n",
       "    }\n",
       "</style>\n",
       "<table border=\"1\" class=\"dataframe\">\n",
       "  <thead>\n",
       "    <tr style=\"text-align: right;\">\n",
       "      <th></th>\n",
       "      <th>affairs</th>\n",
       "      <th>gender</th>\n",
       "      <th>age</th>\n",
       "      <th>yearsmarried</th>\n",
       "      <th>children</th>\n",
       "      <th>religiousness</th>\n",
       "      <th>education</th>\n",
       "      <th>occupation</th>\n",
       "      <th>rating</th>\n",
       "    </tr>\n",
       "  </thead>\n",
       "  <tbody>\n",
       "    <tr>\n",
       "      <th>0</th>\n",
       "      <td>0</td>\n",
       "      <td>male</td>\n",
       "      <td>37.0</td>\n",
       "      <td>10.00</td>\n",
       "      <td>no</td>\n",
       "      <td>3</td>\n",
       "      <td>18</td>\n",
       "      <td>7</td>\n",
       "      <td>4</td>\n",
       "    </tr>\n",
       "    <tr>\n",
       "      <th>1</th>\n",
       "      <td>0</td>\n",
       "      <td>female</td>\n",
       "      <td>27.0</td>\n",
       "      <td>4.00</td>\n",
       "      <td>no</td>\n",
       "      <td>4</td>\n",
       "      <td>14</td>\n",
       "      <td>6</td>\n",
       "      <td>4</td>\n",
       "    </tr>\n",
       "    <tr>\n",
       "      <th>2</th>\n",
       "      <td>0</td>\n",
       "      <td>female</td>\n",
       "      <td>32.0</td>\n",
       "      <td>15.00</td>\n",
       "      <td>yes</td>\n",
       "      <td>1</td>\n",
       "      <td>12</td>\n",
       "      <td>1</td>\n",
       "      <td>4</td>\n",
       "    </tr>\n",
       "    <tr>\n",
       "      <th>3</th>\n",
       "      <td>0</td>\n",
       "      <td>male</td>\n",
       "      <td>57.0</td>\n",
       "      <td>15.00</td>\n",
       "      <td>yes</td>\n",
       "      <td>5</td>\n",
       "      <td>18</td>\n",
       "      <td>6</td>\n",
       "      <td>5</td>\n",
       "    </tr>\n",
       "    <tr>\n",
       "      <th>4</th>\n",
       "      <td>0</td>\n",
       "      <td>male</td>\n",
       "      <td>22.0</td>\n",
       "      <td>0.75</td>\n",
       "      <td>no</td>\n",
       "      <td>2</td>\n",
       "      <td>17</td>\n",
       "      <td>6</td>\n",
       "      <td>3</td>\n",
       "    </tr>\n",
       "  </tbody>\n",
       "</table>\n",
       "</div>"
      ],
      "text/plain": [
       "   affairs  gender   age  yearsmarried children  religiousness  education  \\\n",
       "0        0    male  37.0         10.00       no              3         18   \n",
       "1        0  female  27.0          4.00       no              4         14   \n",
       "2        0  female  32.0         15.00      yes              1         12   \n",
       "3        0    male  57.0         15.00      yes              5         18   \n",
       "4        0    male  22.0          0.75       no              2         17   \n",
       "\n",
       "   occupation  rating  \n",
       "0           7       4  \n",
       "1           6       4  \n",
       "2           1       4  \n",
       "3           6       5  \n",
       "4           6       3  "
      ]
     },
     "execution_count": 12,
     "metadata": {},
     "output_type": "execute_result"
    }
   ],
   "source": [
    "affairs= affairs.drop([\"Unnamed: 0\"],axis=1)\n",
    "affairs.head()"
   ]
  },
  {
   "cell_type": "code",
   "execution_count": 13,
   "metadata": {},
   "outputs": [
    {
     "data": {
      "text/plain": [
       "female    315\n",
       "male      286\n",
       "Name: gender, dtype: int64"
      ]
     },
     "execution_count": 13,
     "metadata": {},
     "output_type": "execute_result"
    }
   ],
   "source": [
    "affairs[\"gender\"].value_counts()"
   ]
  },
  {
   "cell_type": "code",
   "execution_count": 15,
   "metadata": {},
   "outputs": [
    {
     "data": {
      "text/plain": [
       "27.0    153\n",
       "22.0    117\n",
       "32.0    115\n",
       "37.0     88\n",
       "42.0     56\n",
       "47.0     23\n",
       "57.0     22\n",
       "52.0     21\n",
       "17.5      6\n",
       "Name: age, dtype: int64"
      ]
     },
     "execution_count": 15,
     "metadata": {},
     "output_type": "execute_result"
    }
   ],
   "source": [
    "affairs[\"age\"].value_counts()"
   ]
  },
  {
   "cell_type": "code",
   "execution_count": 16,
   "metadata": {},
   "outputs": [
    {
     "data": {
      "text/plain": [
       "15.000    204\n",
       "4.000     105\n",
       "1.500      88\n",
       "7.000      82\n",
       "10.000     70\n",
       "0.750      31\n",
       "0.125      11\n",
       "0.417      10\n",
       "Name: yearsmarried, dtype: int64"
      ]
     },
     "execution_count": 16,
     "metadata": {},
     "output_type": "execute_result"
    }
   ],
   "source": [
    "affairs[\"yearsmarried\"].value_counts()"
   ]
  },
  {
   "cell_type": "code",
   "execution_count": 17,
   "metadata": {},
   "outputs": [
    {
     "data": {
      "text/plain": [
       "4    190\n",
       "2    164\n",
       "3    129\n",
       "5     70\n",
       "1     48\n",
       "Name: religiousness, dtype: int64"
      ]
     },
     "execution_count": 17,
     "metadata": {},
     "output_type": "execute_result"
    }
   ],
   "source": [
    "affairs[\"religiousness\"].value_counts()"
   ]
  },
  {
   "cell_type": "code",
   "execution_count": 18,
   "metadata": {},
   "outputs": [
    {
     "data": {
      "text/plain": [
       "14    154\n",
       "16    115\n",
       "18    112\n",
       "17     89\n",
       "20     80\n",
       "12     44\n",
       "9       7\n",
       "Name: education, dtype: int64"
      ]
     },
     "execution_count": 18,
     "metadata": {},
     "output_type": "execute_result"
    }
   ],
   "source": [
    "affairs[\"education\"].value_counts()"
   ]
  },
  {
   "cell_type": "code",
   "execution_count": 19,
   "metadata": {},
   "outputs": [
    {
     "data": {
      "text/plain": [
       "5    204\n",
       "6    143\n",
       "1    113\n",
       "4     68\n",
       "3     47\n",
       "7     13\n",
       "2     13\n",
       "Name: occupation, dtype: int64"
      ]
     },
     "execution_count": 19,
     "metadata": {},
     "output_type": "execute_result"
    }
   ],
   "source": [
    "affairs[\"occupation\"].value_counts()"
   ]
  },
  {
   "cell_type": "code",
   "execution_count": 20,
   "metadata": {},
   "outputs": [
    {
     "data": {
      "text/plain": [
       "5    232\n",
       "4    194\n",
       "3     93\n",
       "2     66\n",
       "1     16\n",
       "Name: rating, dtype: int64"
      ]
     },
     "execution_count": 20,
     "metadata": {},
     "output_type": "execute_result"
    }
   ],
   "source": [
    "affairs[\"rating\"].value_counts()"
   ]
  },
  {
   "cell_type": "code",
   "execution_count": 21,
   "metadata": {},
   "outputs": [],
   "source": [
    "## Plotting boxplots"
   ]
  },
  {
   "cell_type": "code",
   "execution_count": 23,
   "metadata": {},
   "outputs": [
    {
     "data": {
      "text/plain": [
       "{'whiskers': [<matplotlib.lines.Line2D at 0x1e256eef070>,\n",
       "  <matplotlib.lines.Line2D at 0x1e256eef3d0>],\n",
       " 'caps': [<matplotlib.lines.Line2D at 0x1e256eef730>,\n",
       "  <matplotlib.lines.Line2D at 0x1e256eefa90>],\n",
       " 'boxes': [<matplotlib.lines.Line2D at 0x1e256ed3cd0>],\n",
       " 'medians': [<matplotlib.lines.Line2D at 0x1e256eefdf0>],\n",
       " 'fliers': [<matplotlib.lines.Line2D at 0x1e256efc190>],\n",
       " 'means': []}"
      ]
     },
     "execution_count": 23,
     "metadata": {},
     "output_type": "execute_result"
    },
    {
     "data": {
      "image/png": "[encoded data removed]",
      "text/plain": [
       "<Figure size 432x288 with 1 Axes>"
      ]
     },
     "metadata": {
      "needs_background": "light"
     },
     "output_type": "display_data"
    }
   ],
   "source": [
    "plt.boxplot(affairs[\"age\"])"
   ]
  },
  {
   "cell_type": "code",
   "execution_count": 25,
   "metadata": {},
   "outputs": [
    {
     "data": {
      "text/plain": [
       "{'whiskers': [<matplotlib.lines.Line2D at 0x1e25721a190>,\n",
       "  <matplotlib.lines.Line2D at 0x1e25721a520>],\n",
       " 'caps': [<matplotlib.lines.Line2D at 0x1e25721a880>,\n",
       "  <matplotlib.lines.Line2D at 0x1e25721abe0>],\n",
       " 'boxes': [<matplotlib.lines.Line2D at 0x1e25720bdf0>],\n",
       " 'medians': [<matplotlib.lines.Line2D at 0x1e25721af40>],\n",
       " 'fliers': [<matplotlib.lines.Line2D at 0x1e2572222e0>],\n",
       " 'means': []}"
      ]
     },
     "execution_count": 25,
     "metadata": {},
     "output_type": "execute_result"
    },
    {
     "data": {
      "image/png": "[encoded data removed]",
      "text/plain": [
       "<Figure size 432x288 with 1 Axes>"
      ]
     },
     "metadata": {
      "needs_background": "light"
     },
     "output_type": "display_data"
    }
   ],
   "source": [
    "plt.boxplot(affairs[\"yearsmarried\"])"
   ]
  },
  {
   "cell_type": "code",
   "execution_count": 26,
   "metadata": {},
   "outputs": [
    {
     "data": {
      "text/plain": [
       "{'whiskers': [<matplotlib.lines.Line2D at 0x1e25727a7c0>,\n",
       "  <matplotlib.lines.Line2D at 0x1e25727ab20>],\n",
       " 'caps': [<matplotlib.lines.Line2D at 0x1e25727ae80>,\n",
       "  <matplotlib.lines.Line2D at 0x1e257287220>],\n",
       " 'boxes': [<matplotlib.lines.Line2D at 0x1e25727a460>],\n",
       " 'medians': [<matplotlib.lines.Line2D at 0x1e257287580>],\n",
       " 'fliers': [<matplotlib.lines.Line2D at 0x1e2572878e0>],\n",
       " 'means': []}"
      ]
     },
     "execution_count": 26,
     "metadata": {},
     "output_type": "execute_result"
    },
    {
     "data": {
      "image/png": "[encoded data removed]",
      "text/plain": [
       "<Figure size 432x288 with 1 Axes>"
      ]
     },
     "metadata": {
      "needs_background": "light"
     },
     "output_type": "display_data"
    }
   ],
   "source": [
    "plt.boxplot(affairs[\"education\"])"
   ]
  },
  {
   "cell_type": "code",
   "execution_count": 27,
   "metadata": {},
   "outputs": [
    {
     "data": {
      "text/plain": [
       "{'whiskers': [<matplotlib.lines.Line2D at 0x1e2572e01c0>,\n",
       "  <matplotlib.lines.Line2D at 0x1e2572e0520>],\n",
       " 'caps': [<matplotlib.lines.Line2D at 0x1e2572e0880>,\n",
       "  <matplotlib.lines.Line2D at 0x1e2572e0be0>],\n",
       " 'boxes': [<matplotlib.lines.Line2D at 0x1e2572d1e20>],\n",
       " 'medians': [<matplotlib.lines.Line2D at 0x1e2572e0f40>],\n",
       " 'fliers': [<matplotlib.lines.Line2D at 0x1e2572ec2e0>],\n",
       " 'means': []}"
      ]
     },
     "execution_count": 27,
     "metadata": {},
     "output_type": "execute_result"
    },
    {
     "data": {
      "image/png": "[encoded data removed]",
      "text/plain": [
       "<Figure size 432x288 with 1 Axes>"
      ]
     },
     "metadata": {
      "needs_background": "light"
     },
     "output_type": "display_data"
    }
   ],
   "source": [
    "plt.boxplot(affairs[\"occupation\"])"
   ]
  },
  {
   "cell_type": "code",
   "execution_count": 28,
   "metadata": {},
   "outputs": [
    {
     "data": {
      "text/plain": [
       "{'whiskers': [<matplotlib.lines.Line2D at 0x1e257338b50>,\n",
       "  <matplotlib.lines.Line2D at 0x1e257338eb0>],\n",
       " 'caps': [<matplotlib.lines.Line2D at 0x1e257345250>,\n",
       "  <matplotlib.lines.Line2D at 0x1e2573455b0>],\n",
       " 'boxes': [<matplotlib.lines.Line2D at 0x1e2573387c0>],\n",
       " 'medians': [<matplotlib.lines.Line2D at 0x1e257345910>],\n",
       " 'fliers': [<matplotlib.lines.Line2D at 0x1e257345c70>],\n",
       " 'means': []}"
      ]
     },
     "execution_count": 28,
     "metadata": {},
     "output_type": "execute_result"
    },
    {
     "data": {
      "image/png": "[encoded data removed]",
      "text/plain": [
       "<Figure size 432x288 with 1 Axes>"
      ]
     },
     "metadata": {
      "needs_background": "light"
     },
     "output_type": "display_data"
    }
   ],
   "source": [
    "plt.boxplot(affairs[\"rating\"])"
   ]
  },
  {
   "cell_type": "code",
   "execution_count": 30,
   "metadata": {},
   "outputs": [
    {
     "data": {
      "text/plain": [
       "{'whiskers': [<matplotlib.lines.Line2D at 0x1e2573f5580>,\n",
       "  <matplotlib.lines.Line2D at 0x1e2573f58e0>],\n",
       " 'caps': [<matplotlib.lines.Line2D at 0x1e2573f5c40>,\n",
       "  <matplotlib.lines.Line2D at 0x1e2573f5fa0>],\n",
       " 'boxes': [<matplotlib.lines.Line2D at 0x1e2573f5220>],\n",
       " 'medians': [<matplotlib.lines.Line2D at 0x1e257401340>],\n",
       " 'fliers': [<matplotlib.lines.Line2D at 0x1e2574016a0>],\n",
       " 'means': []}"
      ]
     },
     "execution_count": 30,
     "metadata": {},
     "output_type": "execute_result"
    },
    {
     "data": {
      "image/png": "[encoded data removed]",
      "text/plain": [
       "<Figure size 432x288 with 1 Axes>"
      ]
     },
     "metadata": {
      "needs_background": "light"
     },
     "output_type": "display_data"
    }
   ],
   "source": [
    "plt.boxplot(affairs[\"rating\"])"
   ]
  },
  {
   "cell_type": "code",
   "execution_count": 31,
   "metadata": {},
   "outputs": [
    {
     "data": {
      "text/plain": [
       "{'whiskers': [<matplotlib.lines.Line2D at 0x1e258422a60>,\n",
       "  <matplotlib.lines.Line2D at 0x1e258422dc0>],\n",
       " 'caps': [<matplotlib.lines.Line2D at 0x1e25842f0a0>,\n",
       "  <matplotlib.lines.Line2D at 0x1e25842f400>],\n",
       " 'boxes': [<matplotlib.lines.Line2D at 0x1e258422700>],\n",
       " 'medians': [<matplotlib.lines.Line2D at 0x1e25842f760>],\n",
       " 'fliers': [<matplotlib.lines.Line2D at 0x1e25842fac0>],\n",
       " 'means': []}"
      ]
     },
     "execution_count": 31,
     "metadata": {},
     "output_type": "execute_result"
    },
    {
     "data": {
      "image/png": "[encoded data removed]",
      "text/plain": [
       "<Figure size 432x288 with 1 Axes>"
      ]
     },
     "metadata": {
      "needs_background": "light"
     },
     "output_type": "display_data"
    }
   ],
   "source": [
    "plt.boxplot(affairs[\"religiousness\"])\n"
   ]
  },
  {
   "cell_type": "code",
   "execution_count": 32,
   "metadata": {},
   "outputs": [
    {
     "data": {
      "text/plain": [
       "{'whiskers': [<matplotlib.lines.Line2D at 0x1e258481e20>,\n",
       "  <matplotlib.lines.Line2D at 0x1e2584911c0>],\n",
       " 'caps': [<matplotlib.lines.Line2D at 0x1e258491520>,\n",
       "  <matplotlib.lines.Line2D at 0x1e258491880>],\n",
       " 'boxes': [<matplotlib.lines.Line2D at 0x1e258481b80>],\n",
       " 'medians': [<matplotlib.lines.Line2D at 0x1e258491be0>],\n",
       " 'fliers': [<matplotlib.lines.Line2D at 0x1e258491f40>],\n",
       " 'means': []}"
      ]
     },
     "execution_count": 32,
     "metadata": {},
     "output_type": "execute_result"
    },
    {
     "data": {
      "image/png": "[encoded data removed]",
      "text/plain": [
       "<Figure size 432x288 with 1 Axes>"
      ]
     },
     "metadata": {
      "needs_background": "light"
     },
     "output_type": "display_data"
    }
   ],
   "source": [
    "plt.boxplot(affairs[\"affairs\"])"
   ]
  },
  {
   "cell_type": "markdown",
   "metadata": {},
   "source": [
    "According to boxplots, affairs show many outliers"
   ]
  },
  {
   "cell_type": "code",
   "execution_count": 41,
   "metadata": {},
   "outputs": [
    {
     "data": {
      "text/plain": [
       "(affairs           0.0\n",
       " age              27.0\n",
       " yearsmarried      4.0\n",
       " religiousness     2.0\n",
       " education        14.0\n",
       " occupation        3.0\n",
       " rating            3.0\n",
       " Name: 0.25, dtype: float64,\n",
       " affairs           0.0\n",
       " age              10.0\n",
       " yearsmarried     11.0\n",
       " religiousness     2.0\n",
       " education         4.0\n",
       " occupation        3.0\n",
       " rating            2.0\n",
       " dtype: float64,\n",
       " affairs           0.0\n",
       " age              37.0\n",
       " yearsmarried     15.0\n",
       " religiousness     4.0\n",
       " education        18.0\n",
       " occupation        6.0\n",
       " rating            5.0\n",
       " Name: 0.75, dtype: float64)"
      ]
     },
     "execution_count": 41,
     "metadata": {},
     "output_type": "execute_result"
    }
   ],
   "source": [
    "#calculating the interquantile range\n",
    "q25 = affairs.quantile(0.25)\n",
    "q75 = affairs.quantile(0.75)\n",
    "iqr= q75-q25\n",
    "lower_bound = q25 - (1.5 * iqr)\n",
    "upper_bound = q75 + (1.5* iqr)\n",
    "\n",
    "q25,iqr,q75"
   ]
  },
  {
   "cell_type": "code",
   "execution_count": 49,
   "metadata": {},
   "outputs": [
    {
     "data": {
      "text/plain": [
       "(   affairs    age  children  education  gender  occupation  rating  \\\n",
       " 0    False  False     False      False   False       False   False   \n",
       " 1    False  False     False      False   False       False   False   \n",
       " 2    False  False     False      False   False       False   False   \n",
       " 3    False  False     False      False   False       False   False   \n",
       " 4    False  False     False      False   False       False   False   \n",
       " \n",
       "    religiousness  yearsmarried  \n",
       " 0          False         False  \n",
       " 1          False         False  \n",
       " 2          False         False  \n",
       " 3          False         False  \n",
       " 4          False         False  ,\n",
       "    affairs    age  children  education  gender  occupation  rating  \\\n",
       " 0    False  False     False      False   False       False   False   \n",
       " 1    False  False     False      False   False       False   False   \n",
       " 2    False  False     False      False   False       False   False   \n",
       " 3    False   True     False      False   False       False   False   \n",
       " 4    False  False     False      False   False       False   False   \n",
       " \n",
       "    religiousness  yearsmarried  \n",
       " 0          False         False  \n",
       " 1          False         False  \n",
       " 2          False         False  \n",
       " 3          False         False  \n",
       " 4          False         False  )"
      ]
     },
     "execution_count": 49,
     "metadata": {},
     "output_type": "execute_result"
    }
   ],
   "source": [
    "## To know the outliers\n",
    "## This code will make it as True & False values\n",
    "## False is valid data, True is outlier data\n",
    "out_25= (affairs < (q25 - (1.5 * iqr))) \n",
    "out_75 = (affairs> (q75+(1.5 * iqr)))\n",
    "out_25.head(),out_75.head()"
   ]
  },
  {
   "cell_type": "code",
   "execution_count": 51,
   "metadata": {},
   "outputs": [
    {
     "data": {
      "text/plain": [
       "False    601\n",
       "Name: age, dtype: int64"
      ]
     },
     "execution_count": 51,
     "metadata": {},
     "output_type": "execute_result"
    }
   ],
   "source": [
    "##Checking for outliers below lower_bound.\n",
    "out_25[\"age\"].value_counts()"
   ]
  },
  {
   "cell_type": "code",
   "execution_count": 56,
   "metadata": {},
   "outputs": [
    {
     "data": {
      "text/plain": [
       "False    601\n",
       "Name: affairs, dtype: int64"
      ]
     },
     "execution_count": 56,
     "metadata": {},
     "output_type": "execute_result"
    }
   ],
   "source": [
    "out_25[\"affairs\"].value_counts()\n"
   ]
  },
  {
   "cell_type": "code",
   "execution_count": 57,
   "metadata": {},
   "outputs": [
    {
     "data": {
      "text/plain": [
       "False    601\n",
       "Name: children, dtype: int64"
      ]
     },
     "execution_count": 57,
     "metadata": {},
     "output_type": "execute_result"
    }
   ],
   "source": [
    "out_25[\"children\"].value_counts()\n"
   ]
  },
  {
   "cell_type": "code",
   "execution_count": 58,
   "metadata": {},
   "outputs": [
    {
     "data": {
      "text/plain": [
       "False    601\n",
       "Name: education, dtype: int64"
      ]
     },
     "execution_count": 58,
     "metadata": {},
     "output_type": "execute_result"
    }
   ],
   "source": [
    "out_25[\"education\"].value_counts()\n"
   ]
  },
  {
   "cell_type": "code",
   "execution_count": 59,
   "metadata": {},
   "outputs": [
    {
     "data": {
      "text/plain": [
       "False    601\n",
       "Name: gender, dtype: int64"
      ]
     },
     "execution_count": 59,
     "metadata": {},
     "output_type": "execute_result"
    }
   ],
   "source": [
    "out_25[\"gender\"].value_counts()\n"
   ]
  },
  {
   "cell_type": "code",
   "execution_count": 60,
   "metadata": {},
   "outputs": [
    {
     "data": {
      "text/plain": [
       "False    601\n",
       "Name: occupation, dtype: int64"
      ]
     },
     "execution_count": 60,
     "metadata": {},
     "output_type": "execute_result"
    }
   ],
   "source": [
    "out_25[\"occupation\"].value_counts()\n"
   ]
  },
  {
   "cell_type": "code",
   "execution_count": 61,
   "metadata": {},
   "outputs": [
    {
     "data": {
      "text/plain": [
       "False    601\n",
       "Name: rating, dtype: int64"
      ]
     },
     "execution_count": 61,
     "metadata": {},
     "output_type": "execute_result"
    }
   ],
   "source": [
    "out_25[\"rating\"].value_counts()\n"
   ]
  },
  {
   "cell_type": "code",
   "execution_count": 54,
   "metadata": {},
   "outputs": [
    {
     "data": {
      "text/plain": [
       "False    601\n",
       "Name: religiousness, dtype: int64"
      ]
     },
     "execution_count": 54,
     "metadata": {},
     "output_type": "execute_result"
    }
   ],
   "source": [
    "out_25[\"religiousness\"].value_counts()\n"
   ]
  },
  {
   "cell_type": "code",
   "execution_count": 53,
   "metadata": {},
   "outputs": [
    {
     "data": {
      "text/plain": [
       "False    601\n",
       "Name: yearsmarried, dtype: int64"
      ]
     },
     "execution_count": 53,
     "metadata": {},
     "output_type": "execute_result"
    }
   ],
   "source": [
    "out_25[\"yearsmarried\"].value_counts()\n"
   ]
  },
  {
   "cell_type": "markdown",
   "metadata": {},
   "source": [
    "There are no outliers below lower bound."
   ]
  },
  {
   "cell_type": "code",
   "execution_count": 63,
   "metadata": {},
   "outputs": [
    {
     "data": {
      "text/plain": [
       "False    579\n",
       "True      22\n",
       "Name: age, dtype: int64"
      ]
     },
     "execution_count": 63,
     "metadata": {},
     "output_type": "execute_result"
    }
   ],
   "source": [
    "## Checking for outliers above upper bound\n",
    "out_75[\"age\"].value_counts() \n"
   ]
  },
  {
   "cell_type": "code",
   "execution_count": 64,
   "metadata": {},
   "outputs": [
    {
     "data": {
      "text/plain": [
       "False    451\n",
       "True     150\n",
       "Name: affairs, dtype: int64"
      ]
     },
     "execution_count": 64,
     "metadata": {},
     "output_type": "execute_result"
    }
   ],
   "source": [
    "out_75[\"affairs\"].value_counts() \n"
   ]
  },
  {
   "cell_type": "code",
   "execution_count": 65,
   "metadata": {},
   "outputs": [
    {
     "data": {
      "text/plain": [
       "False    601\n",
       "Name: children, dtype: int64"
      ]
     },
     "execution_count": 65,
     "metadata": {},
     "output_type": "execute_result"
    }
   ],
   "source": [
    "out_75[\"children\"].value_counts()"
   ]
  },
  {
   "cell_type": "code",
   "execution_count": 66,
   "metadata": {},
   "outputs": [
    {
     "data": {
      "text/plain": [
       "False    601\n",
       "Name: education, dtype: int64"
      ]
     },
     "execution_count": 66,
     "metadata": {},
     "output_type": "execute_result"
    }
   ],
   "source": [
    "out_75[\"education\"].value_counts()"
   ]
  },
  {
   "cell_type": "code",
   "execution_count": 67,
   "metadata": {},
   "outputs": [
    {
     "data": {
      "text/plain": [
       "False    601\n",
       "Name: gender, dtype: int64"
      ]
     },
     "execution_count": 67,
     "metadata": {},
     "output_type": "execute_result"
    }
   ],
   "source": [
    "out_75[\"gender\"].value_counts()"
   ]
  },
  {
   "cell_type": "code",
   "execution_count": 68,
   "metadata": {},
   "outputs": [
    {
     "data": {
      "text/plain": [
       "False    601\n",
       "Name: occupation, dtype: int64"
      ]
     },
     "execution_count": 68,
     "metadata": {},
     "output_type": "execute_result"
    }
   ],
   "source": [
    "out_75[\"occupation\"].value_counts()"
   ]
  },
  {
   "cell_type": "code",
   "execution_count": 69,
   "metadata": {},
   "outputs": [
    {
     "data": {
      "text/plain": [
       "False    601\n",
       "Name: rating, dtype: int64"
      ]
     },
     "execution_count": 69,
     "metadata": {},
     "output_type": "execute_result"
    }
   ],
   "source": [
    "out_75[\"rating\"].value_counts()"
   ]
  },
  {
   "cell_type": "code",
   "execution_count": 70,
   "metadata": {},
   "outputs": [
    {
     "data": {
      "text/plain": [
       "False    601\n",
       "Name: religiousness, dtype: int64"
      ]
     },
     "execution_count": 70,
     "metadata": {},
     "output_type": "execute_result"
    }
   ],
   "source": [
    "out_75[\"religiousness\"].value_counts()"
   ]
  },
  {
   "cell_type": "code",
   "execution_count": 71,
   "metadata": {},
   "outputs": [
    {
     "data": {
      "text/plain": [
       "False    601\n",
       "Name: yearsmarried, dtype: int64"
      ]
     },
     "execution_count": 71,
     "metadata": {},
     "output_type": "execute_result"
    }
   ],
   "source": [
    "out_75[\"yearsmarried\"].value_counts()"
   ]
  },
  {
   "cell_type": "markdown",
   "metadata": {},
   "source": [
    "'Age' has 22 (True) outliers & 'affairs' has 150 (True) outliers"
   ]
  },
  {
   "cell_type": "code",
   "execution_count": 75,
   "metadata": {},
   "outputs": [
    {
     "data": {
      "text/plain": [
       "0      3.610918\n",
       "1      3.295837\n",
       "2      3.465736\n",
       "3      4.043051\n",
       "4      3.091042\n",
       "         ...   \n",
       "596    3.091042\n",
       "597    3.465736\n",
       "598    3.465736\n",
       "599    3.091042\n",
       "600    3.465736\n",
       "Name: age, Length: 601, dtype: float64"
      ]
     },
     "execution_count": 75,
     "metadata": {},
     "output_type": "execute_result"
    }
   ],
   "source": [
    "## log transformation for age, to convert the outliers\n",
    "x= np.log(affairs[\"age\"])\n",
    "x\n"
   ]
  },
  {
   "cell_type": "code",
   "execution_count": 76,
   "metadata": {},
   "outputs": [
    {
     "data": {
      "text/plain": [
       "{'whiskers': [<matplotlib.lines.Line2D at 0x1e2586b1b50>,\n",
       "  <matplotlib.lines.Line2D at 0x1e2586b1eb0>],\n",
       " 'caps': [<matplotlib.lines.Line2D at 0x1e2586bf250>,\n",
       "  <matplotlib.lines.Line2D at 0x1e2586bf5b0>],\n",
       " 'boxes': [<matplotlib.lines.Line2D at 0x1e2586b17f0>],\n",
       " 'medians': [<matplotlib.lines.Line2D at 0x1e2586bf910>],\n",
       " 'fliers': [<matplotlib.lines.Line2D at 0x1e2586bfc70>],\n",
       " 'means': []}"
      ]
     },
     "execution_count": 76,
     "metadata": {},
     "output_type": "execute_result"
    },
    {
     "data": {
      "image/png": "[encoded data removed]",
      "text/plain": [
       "<Figure size 432x288 with 1 Axes>"
      ]
     },
     "metadata": {
      "needs_background": "light"
     },
     "output_type": "display_data"
    }
   ],
   "source": [
    "plt.boxplot(x)"
   ]
  },
  {
   "cell_type": "code",
   "execution_count": 82,
   "metadata": {},
   "outputs": [
    {
     "data": {
      "text/plain": [
       "(3.295836866004329,\n",
       " 3.6109179126442243,\n",
       " affairs           0.0\n",
       " age              10.0\n",
       " yearsmarried     11.0\n",
       " religiousness     2.0\n",
       " education         4.0\n",
       " occupation        3.0\n",
       " rating            2.0\n",
       " dtype: float64,\n",
       " 2.823215296044486,\n",
       " 4.083539482604067)"
      ]
     },
     "execution_count": 82,
     "metadata": {},
     "output_type": "execute_result"
    }
   ],
   "source": [
    "q_25 = np.log(affairs[\"age\"]).quantile(0.25)\n",
    "q_75 = np.log(affairs[\"age\"]).quantile(0.75)\n",
    "iqr2 = q_75-q_25\n",
    "lower_bound_one = q_25 - (1.5 * iqr2)\n",
    "upper_bound_one = q_75 + (1.5* iqr2)\n",
    "q_25,q_75,iqr,lower_bound_one,upper_bound_one"
   ]
  },
  {
   "cell_type": "code",
   "execution_count": 84,
   "metadata": {},
   "outputs": [
    {
     "data": {
      "text/plain": [
       "(0      False\n",
       " 1      False\n",
       " 2      False\n",
       " 3      False\n",
       " 4      False\n",
       "        ...  \n",
       " 596    False\n",
       " 597    False\n",
       " 598    False\n",
       " 599    False\n",
       " 600    False\n",
       " Name: age, Length: 601, dtype: bool,\n",
       " 0      False\n",
       " 1      False\n",
       " 2      False\n",
       " 3      False\n",
       " 4      False\n",
       "        ...  \n",
       " 596    False\n",
       " 597    False\n",
       " 598    False\n",
       " 599    False\n",
       " 600    False\n",
       " Name: age, Length: 601, dtype: bool)"
      ]
     },
     "execution_count": 84,
     "metadata": {},
     "output_type": "execute_result"
    }
   ],
   "source": [
    "out_25_one= (np.log(affairs[\"age\"]) < lower_bound_one) \n",
    "out_75_one = (np.log(affairs[\"age\"])> upper_bound_one)\n",
    "out_25_one,out_75_one"
   ]
  },
  {
   "cell_type": "code",
   "execution_count": 85,
   "metadata": {},
   "outputs": [
    {
     "data": {
      "text/plain": [
       "False    601\n",
       "Name: age, dtype: int64"
      ]
     },
     "execution_count": 85,
     "metadata": {},
     "output_type": "execute_result"
    }
   ],
   "source": [
    "out_25_one.value_counts()## no outliers\n",
    "out_75_one.value_counts()## no outliers"
   ]
  },
  {
   "cell_type": "code",
   "execution_count": 86,
   "metadata": {},
   "outputs": [
    {
     "data": {
      "text/plain": [
       "affairs          0\n",
       "gender           0\n",
       "age              0\n",
       "yearsmarried     0\n",
       "children         0\n",
       "religiousness    0\n",
       "education        0\n",
       "occupation       0\n",
       "rating           0\n",
       "dtype: int64"
      ]
     },
     "execution_count": 86,
     "metadata": {},
     "output_type": "execute_result"
    }
   ],
   "source": [
    "affairs.isnull().sum()"
   ]
  },
  {
   "cell_type": "code",
   "execution_count": 88,
   "metadata": {},
   "outputs": [
    {
     "data": {
      "text/html": [
       "<div>\n",
       "<style scoped>\n",
       "    .dataframe tbody tr th:only-of-type {\n",
       "        vertical-align: middle;\n",
       "    }\n",
       "\n",
       "    .dataframe tbody tr th {\n",
       "        vertical-align: top;\n",
       "    }\n",
       "\n",
       "    .dataframe thead th {\n",
       "        text-align: right;\n",
       "    }\n",
       "</style>\n",
       "<table border=\"1\" class=\"dataframe\">\n",
       "  <thead>\n",
       "    <tr style=\"text-align: right;\">\n",
       "      <th></th>\n",
       "      <th>affairs</th>\n",
       "      <th>age</th>\n",
       "      <th>yearsmarried</th>\n",
       "      <th>religiousness</th>\n",
       "      <th>education</th>\n",
       "      <th>occupation</th>\n",
       "      <th>rating</th>\n",
       "      <th>gender_male</th>\n",
       "      <th>children_yes</th>\n",
       "    </tr>\n",
       "  </thead>\n",
       "  <tbody>\n",
       "    <tr>\n",
       "      <th>0</th>\n",
       "      <td>0</td>\n",
       "      <td>37.0</td>\n",
       "      <td>10.00</td>\n",
       "      <td>3</td>\n",
       "      <td>18</td>\n",
       "      <td>7</td>\n",
       "      <td>4</td>\n",
       "      <td>1</td>\n",
       "      <td>0</td>\n",
       "    </tr>\n",
       "    <tr>\n",
       "      <th>1</th>\n",
       "      <td>0</td>\n",
       "      <td>27.0</td>\n",
       "      <td>4.00</td>\n",
       "      <td>4</td>\n",
       "      <td>14</td>\n",
       "      <td>6</td>\n",
       "      <td>4</td>\n",
       "      <td>0</td>\n",
       "      <td>0</td>\n",
       "    </tr>\n",
       "    <tr>\n",
       "      <th>2</th>\n",
       "      <td>0</td>\n",
       "      <td>32.0</td>\n",
       "      <td>15.00</td>\n",
       "      <td>1</td>\n",
       "      <td>12</td>\n",
       "      <td>1</td>\n",
       "      <td>4</td>\n",
       "      <td>0</td>\n",
       "      <td>1</td>\n",
       "    </tr>\n",
       "    <tr>\n",
       "      <th>3</th>\n",
       "      <td>0</td>\n",
       "      <td>57.0</td>\n",
       "      <td>15.00</td>\n",
       "      <td>5</td>\n",
       "      <td>18</td>\n",
       "      <td>6</td>\n",
       "      <td>5</td>\n",
       "      <td>1</td>\n",
       "      <td>1</td>\n",
       "    </tr>\n",
       "    <tr>\n",
       "      <th>4</th>\n",
       "      <td>0</td>\n",
       "      <td>22.0</td>\n",
       "      <td>0.75</td>\n",
       "      <td>2</td>\n",
       "      <td>17</td>\n",
       "      <td>6</td>\n",
       "      <td>3</td>\n",
       "      <td>1</td>\n",
       "      <td>0</td>\n",
       "    </tr>\n",
       "  </tbody>\n",
       "</table>\n",
       "</div>"
      ],
      "text/plain": [
       "   affairs   age  yearsmarried  religiousness  education  occupation  rating  \\\n",
       "0        0  37.0         10.00              3         18           7       4   \n",
       "1        0  27.0          4.00              4         14           6       4   \n",
       "2        0  32.0         15.00              1         12           1       4   \n",
       "3        0  57.0         15.00              5         18           6       5   \n",
       "4        0  22.0          0.75              2         17           6       3   \n",
       "\n",
       "   gender_male  children_yes  \n",
       "0            1             0  \n",
       "1            0             0  \n",
       "2            0             1  \n",
       "3            1             1  \n",
       "4            1             0  "
      ]
     },
     "execution_count": 88,
     "metadata": {},
     "output_type": "execute_result"
    }
   ],
   "source": [
    "## Creating dummies for gender and children\n",
    "affairs_dummy = pd.get_dummies(affairs[[\"gender\",\"children\"]])\n",
    "affairs2 =pd.get_dummies(affairs,drop_first =True)\n",
    "affairs2.head()"
   ]
  },
  {
   "cell_type": "markdown",
   "metadata": {},
   "source": [
    "We've assigned \"gender\" & \"children\" as 1,0 variables"
   ]
  },
  {
   "cell_type": "code",
   "execution_count": 91,
   "metadata": {},
   "outputs": [
    {
     "data": {
      "text/html": [
       "<div>\n",
       "<style scoped>\n",
       "    .dataframe tbody tr th:only-of-type {\n",
       "        vertical-align: middle;\n",
       "    }\n",
       "\n",
       "    .dataframe tbody tr th {\n",
       "        vertical-align: top;\n",
       "    }\n",
       "\n",
       "    .dataframe thead th {\n",
       "        text-align: right;\n",
       "    }\n",
       "</style>\n",
       "<table border=\"1\" class=\"dataframe\">\n",
       "  <thead>\n",
       "    <tr style=\"text-align: right;\">\n",
       "      <th></th>\n",
       "      <th>gender_female</th>\n",
       "      <th>gender_male</th>\n",
       "      <th>children_no</th>\n",
       "      <th>children_yes</th>\n",
       "    </tr>\n",
       "  </thead>\n",
       "  <tbody>\n",
       "    <tr>\n",
       "      <th>0</th>\n",
       "      <td>0</td>\n",
       "      <td>1</td>\n",
       "      <td>1</td>\n",
       "      <td>0</td>\n",
       "    </tr>\n",
       "    <tr>\n",
       "      <th>1</th>\n",
       "      <td>1</td>\n",
       "      <td>0</td>\n",
       "      <td>1</td>\n",
       "      <td>0</td>\n",
       "    </tr>\n",
       "    <tr>\n",
       "      <th>2</th>\n",
       "      <td>1</td>\n",
       "      <td>0</td>\n",
       "      <td>0</td>\n",
       "      <td>1</td>\n",
       "    </tr>\n",
       "    <tr>\n",
       "      <th>3</th>\n",
       "      <td>0</td>\n",
       "      <td>1</td>\n",
       "      <td>0</td>\n",
       "      <td>1</td>\n",
       "    </tr>\n",
       "    <tr>\n",
       "      <th>4</th>\n",
       "      <td>0</td>\n",
       "      <td>1</td>\n",
       "      <td>1</td>\n",
       "      <td>0</td>\n",
       "    </tr>\n",
       "    <tr>\n",
       "      <th>...</th>\n",
       "      <td>...</td>\n",
       "      <td>...</td>\n",
       "      <td>...</td>\n",
       "      <td>...</td>\n",
       "    </tr>\n",
       "    <tr>\n",
       "      <th>596</th>\n",
       "      <td>0</td>\n",
       "      <td>1</td>\n",
       "      <td>0</td>\n",
       "      <td>1</td>\n",
       "    </tr>\n",
       "    <tr>\n",
       "      <th>597</th>\n",
       "      <td>1</td>\n",
       "      <td>0</td>\n",
       "      <td>0</td>\n",
       "      <td>1</td>\n",
       "    </tr>\n",
       "    <tr>\n",
       "      <th>598</th>\n",
       "      <td>0</td>\n",
       "      <td>1</td>\n",
       "      <td>0</td>\n",
       "      <td>1</td>\n",
       "    </tr>\n",
       "    <tr>\n",
       "      <th>599</th>\n",
       "      <td>0</td>\n",
       "      <td>1</td>\n",
       "      <td>0</td>\n",
       "      <td>1</td>\n",
       "    </tr>\n",
       "    <tr>\n",
       "      <th>600</th>\n",
       "      <td>1</td>\n",
       "      <td>0</td>\n",
       "      <td>0</td>\n",
       "      <td>1</td>\n",
       "    </tr>\n",
       "  </tbody>\n",
       "</table>\n",
       "<p>601 rows × 4 columns</p>\n",
       "</div>"
      ],
      "text/plain": [
       "     gender_female  gender_male  children_no  children_yes\n",
       "0                0            1            1             0\n",
       "1                1            0            1             0\n",
       "2                1            0            0             1\n",
       "3                0            1            0             1\n",
       "4                0            1            1             0\n",
       "..             ...          ...          ...           ...\n",
       "596              0            1            0             1\n",
       "597              1            0            0             1\n",
       "598              0            1            0             1\n",
       "599              0            1            0             1\n",
       "600              1            0            0             1\n",
       "\n",
       "[601 rows x 4 columns]"
      ]
     },
     "execution_count": 91,
     "metadata": {},
     "output_type": "execute_result"
    }
   ],
   "source": [
    "affairs_dummy"
   ]
  },
  {
   "cell_type": "code",
   "execution_count": 89,
   "metadata": {},
   "outputs": [
    {
     "data": {
      "text/html": [
       "<div>\n",
       "<style scoped>\n",
       "    .dataframe tbody tr th:only-of-type {\n",
       "        vertical-align: middle;\n",
       "    }\n",
       "\n",
       "    .dataframe tbody tr th {\n",
       "        vertical-align: top;\n",
       "    }\n",
       "\n",
       "    .dataframe thead th {\n",
       "        text-align: right;\n",
       "    }\n",
       "</style>\n",
       "<table border=\"1\" class=\"dataframe\">\n",
       "  <thead>\n",
       "    <tr style=\"text-align: right;\">\n",
       "      <th></th>\n",
       "      <th>affairs</th>\n",
       "      <th>age</th>\n",
       "      <th>yearsmarried</th>\n",
       "      <th>religiousness</th>\n",
       "      <th>education</th>\n",
       "      <th>occupation</th>\n",
       "      <th>rating</th>\n",
       "    </tr>\n",
       "  </thead>\n",
       "  <tbody>\n",
       "    <tr>\n",
       "      <th>0</th>\n",
       "      <td>0</td>\n",
       "      <td>37.0</td>\n",
       "      <td>10.00</td>\n",
       "      <td>3</td>\n",
       "      <td>18</td>\n",
       "      <td>7</td>\n",
       "      <td>4</td>\n",
       "    </tr>\n",
       "    <tr>\n",
       "      <th>1</th>\n",
       "      <td>0</td>\n",
       "      <td>27.0</td>\n",
       "      <td>4.00</td>\n",
       "      <td>4</td>\n",
       "      <td>14</td>\n",
       "      <td>6</td>\n",
       "      <td>4</td>\n",
       "    </tr>\n",
       "    <tr>\n",
       "      <th>2</th>\n",
       "      <td>0</td>\n",
       "      <td>32.0</td>\n",
       "      <td>15.00</td>\n",
       "      <td>1</td>\n",
       "      <td>12</td>\n",
       "      <td>1</td>\n",
       "      <td>4</td>\n",
       "    </tr>\n",
       "    <tr>\n",
       "      <th>3</th>\n",
       "      <td>0</td>\n",
       "      <td>57.0</td>\n",
       "      <td>15.00</td>\n",
       "      <td>5</td>\n",
       "      <td>18</td>\n",
       "      <td>6</td>\n",
       "      <td>5</td>\n",
       "    </tr>\n",
       "    <tr>\n",
       "      <th>4</th>\n",
       "      <td>0</td>\n",
       "      <td>22.0</td>\n",
       "      <td>0.75</td>\n",
       "      <td>2</td>\n",
       "      <td>17</td>\n",
       "      <td>6</td>\n",
       "      <td>3</td>\n",
       "    </tr>\n",
       "    <tr>\n",
       "      <th>...</th>\n",
       "      <td>...</td>\n",
       "      <td>...</td>\n",
       "      <td>...</td>\n",
       "      <td>...</td>\n",
       "      <td>...</td>\n",
       "      <td>...</td>\n",
       "      <td>...</td>\n",
       "    </tr>\n",
       "    <tr>\n",
       "      <th>596</th>\n",
       "      <td>1</td>\n",
       "      <td>22.0</td>\n",
       "      <td>1.50</td>\n",
       "      <td>1</td>\n",
       "      <td>12</td>\n",
       "      <td>2</td>\n",
       "      <td>5</td>\n",
       "    </tr>\n",
       "    <tr>\n",
       "      <th>597</th>\n",
       "      <td>7</td>\n",
       "      <td>32.0</td>\n",
       "      <td>10.00</td>\n",
       "      <td>2</td>\n",
       "      <td>18</td>\n",
       "      <td>5</td>\n",
       "      <td>4</td>\n",
       "    </tr>\n",
       "    <tr>\n",
       "      <th>598</th>\n",
       "      <td>2</td>\n",
       "      <td>32.0</td>\n",
       "      <td>10.00</td>\n",
       "      <td>2</td>\n",
       "      <td>17</td>\n",
       "      <td>6</td>\n",
       "      <td>5</td>\n",
       "    </tr>\n",
       "    <tr>\n",
       "      <th>599</th>\n",
       "      <td>2</td>\n",
       "      <td>22.0</td>\n",
       "      <td>7.00</td>\n",
       "      <td>3</td>\n",
       "      <td>18</td>\n",
       "      <td>6</td>\n",
       "      <td>2</td>\n",
       "    </tr>\n",
       "    <tr>\n",
       "      <th>600</th>\n",
       "      <td>1</td>\n",
       "      <td>32.0</td>\n",
       "      <td>15.00</td>\n",
       "      <td>3</td>\n",
       "      <td>14</td>\n",
       "      <td>1</td>\n",
       "      <td>5</td>\n",
       "    </tr>\n",
       "  </tbody>\n",
       "</table>\n",
       "<p>601 rows × 7 columns</p>\n",
       "</div>"
      ],
      "text/plain": [
       "     affairs   age  yearsmarried  religiousness  education  occupation  rating\n",
       "0          0  37.0         10.00              3         18           7       4\n",
       "1          0  27.0          4.00              4         14           6       4\n",
       "2          0  32.0         15.00              1         12           1       4\n",
       "3          0  57.0         15.00              5         18           6       5\n",
       "4          0  22.0          0.75              2         17           6       3\n",
       "..       ...   ...           ...            ...        ...         ...     ...\n",
       "596        1  22.0          1.50              1         12           2       5\n",
       "597        7  32.0         10.00              2         18           5       4\n",
       "598        2  32.0         10.00              2         17           6       5\n",
       "599        2  22.0          7.00              3         18           6       2\n",
       "600        1  32.0         15.00              3         14           1       5\n",
       "\n",
       "[601 rows x 7 columns]"
      ]
     },
     "execution_count": 89,
     "metadata": {},
     "output_type": "execute_result"
    }
   ],
   "source": [
    "affairs= affairs.drop([\"gender\"], axis=1)\n",
    "affairs2 = affairs.drop([\"children\"],axis=1)\n",
    "affairs2"
   ]
  },
  {
   "cell_type": "code",
   "execution_count": 92,
   "metadata": {},
   "outputs": [
    {
     "data": {
      "text/html": [
       "<div>\n",
       "<style scoped>\n",
       "    .dataframe tbody tr th:only-of-type {\n",
       "        vertical-align: middle;\n",
       "    }\n",
       "\n",
       "    .dataframe tbody tr th {\n",
       "        vertical-align: top;\n",
       "    }\n",
       "\n",
       "    .dataframe thead th {\n",
       "        text-align: right;\n",
       "    }\n",
       "</style>\n",
       "<table border=\"1\" class=\"dataframe\">\n",
       "  <thead>\n",
       "    <tr style=\"text-align: right;\">\n",
       "      <th></th>\n",
       "      <th>affairs</th>\n",
       "      <th>age</th>\n",
       "      <th>yearsmarried</th>\n",
       "      <th>religiousness</th>\n",
       "      <th>education</th>\n",
       "      <th>occupation</th>\n",
       "      <th>rating</th>\n",
       "      <th>gender_female</th>\n",
       "      <th>gender_male</th>\n",
       "      <th>children_no</th>\n",
       "      <th>children_yes</th>\n",
       "    </tr>\n",
       "  </thead>\n",
       "  <tbody>\n",
       "    <tr>\n",
       "      <th>0</th>\n",
       "      <td>0</td>\n",
       "      <td>37.0</td>\n",
       "      <td>10.00</td>\n",
       "      <td>3</td>\n",
       "      <td>18</td>\n",
       "      <td>7</td>\n",
       "      <td>4</td>\n",
       "      <td>0</td>\n",
       "      <td>1</td>\n",
       "      <td>1</td>\n",
       "      <td>0</td>\n",
       "    </tr>\n",
       "    <tr>\n",
       "      <th>1</th>\n",
       "      <td>0</td>\n",
       "      <td>27.0</td>\n",
       "      <td>4.00</td>\n",
       "      <td>4</td>\n",
       "      <td>14</td>\n",
       "      <td>6</td>\n",
       "      <td>4</td>\n",
       "      <td>1</td>\n",
       "      <td>0</td>\n",
       "      <td>1</td>\n",
       "      <td>0</td>\n",
       "    </tr>\n",
       "    <tr>\n",
       "      <th>2</th>\n",
       "      <td>0</td>\n",
       "      <td>32.0</td>\n",
       "      <td>15.00</td>\n",
       "      <td>1</td>\n",
       "      <td>12</td>\n",
       "      <td>1</td>\n",
       "      <td>4</td>\n",
       "      <td>1</td>\n",
       "      <td>0</td>\n",
       "      <td>0</td>\n",
       "      <td>1</td>\n",
       "    </tr>\n",
       "    <tr>\n",
       "      <th>3</th>\n",
       "      <td>0</td>\n",
       "      <td>57.0</td>\n",
       "      <td>15.00</td>\n",
       "      <td>5</td>\n",
       "      <td>18</td>\n",
       "      <td>6</td>\n",
       "      <td>5</td>\n",
       "      <td>0</td>\n",
       "      <td>1</td>\n",
       "      <td>0</td>\n",
       "      <td>1</td>\n",
       "    </tr>\n",
       "    <tr>\n",
       "      <th>4</th>\n",
       "      <td>0</td>\n",
       "      <td>22.0</td>\n",
       "      <td>0.75</td>\n",
       "      <td>2</td>\n",
       "      <td>17</td>\n",
       "      <td>6</td>\n",
       "      <td>3</td>\n",
       "      <td>0</td>\n",
       "      <td>1</td>\n",
       "      <td>1</td>\n",
       "      <td>0</td>\n",
       "    </tr>\n",
       "    <tr>\n",
       "      <th>...</th>\n",
       "      <td>...</td>\n",
       "      <td>...</td>\n",
       "      <td>...</td>\n",
       "      <td>...</td>\n",
       "      <td>...</td>\n",
       "      <td>...</td>\n",
       "      <td>...</td>\n",
       "      <td>...</td>\n",
       "      <td>...</td>\n",
       "      <td>...</td>\n",
       "      <td>...</td>\n",
       "    </tr>\n",
       "    <tr>\n",
       "      <th>596</th>\n",
       "      <td>1</td>\n",
       "      <td>22.0</td>\n",
       "      <td>1.50</td>\n",
       "      <td>1</td>\n",
       "      <td>12</td>\n",
       "      <td>2</td>\n",
       "      <td>5</td>\n",
       "      <td>0</td>\n",
       "      <td>1</td>\n",
       "      <td>0</td>\n",
       "      <td>1</td>\n",
       "    </tr>\n",
       "    <tr>\n",
       "      <th>597</th>\n",
       "      <td>7</td>\n",
       "      <td>32.0</td>\n",
       "      <td>10.00</td>\n",
       "      <td>2</td>\n",
       "      <td>18</td>\n",
       "      <td>5</td>\n",
       "      <td>4</td>\n",
       "      <td>1</td>\n",
       "      <td>0</td>\n",
       "      <td>0</td>\n",
       "      <td>1</td>\n",
       "    </tr>\n",
       "    <tr>\n",
       "      <th>598</th>\n",
       "      <td>2</td>\n",
       "      <td>32.0</td>\n",
       "      <td>10.00</td>\n",
       "      <td>2</td>\n",
       "      <td>17</td>\n",
       "      <td>6</td>\n",
       "      <td>5</td>\n",
       "      <td>0</td>\n",
       "      <td>1</td>\n",
       "      <td>0</td>\n",
       "      <td>1</td>\n",
       "    </tr>\n",
       "    <tr>\n",
       "      <th>599</th>\n",
       "      <td>2</td>\n",
       "      <td>22.0</td>\n",
       "      <td>7.00</td>\n",
       "      <td>3</td>\n",
       "      <td>18</td>\n",
       "      <td>6</td>\n",
       "      <td>2</td>\n",
       "      <td>0</td>\n",
       "      <td>1</td>\n",
       "      <td>0</td>\n",
       "      <td>1</td>\n",
       "    </tr>\n",
       "    <tr>\n",
       "      <th>600</th>\n",
       "      <td>1</td>\n",
       "      <td>32.0</td>\n",
       "      <td>15.00</td>\n",
       "      <td>3</td>\n",
       "      <td>14</td>\n",
       "      <td>1</td>\n",
       "      <td>5</td>\n",
       "      <td>1</td>\n",
       "      <td>0</td>\n",
       "      <td>0</td>\n",
       "      <td>1</td>\n",
       "    </tr>\n",
       "  </tbody>\n",
       "</table>\n",
       "<p>601 rows × 11 columns</p>\n",
       "</div>"
      ],
      "text/plain": [
       "     affairs   age  yearsmarried  religiousness  education  occupation  \\\n",
       "0          0  37.0         10.00              3         18           7   \n",
       "1          0  27.0          4.00              4         14           6   \n",
       "2          0  32.0         15.00              1         12           1   \n",
       "3          0  57.0         15.00              5         18           6   \n",
       "4          0  22.0          0.75              2         17           6   \n",
       "..       ...   ...           ...            ...        ...         ...   \n",
       "596        1  22.0          1.50              1         12           2   \n",
       "597        7  32.0         10.00              2         18           5   \n",
       "598        2  32.0         10.00              2         17           6   \n",
       "599        2  22.0          7.00              3         18           6   \n",
       "600        1  32.0         15.00              3         14           1   \n",
       "\n",
       "     rating  gender_female  gender_male  children_no  children_yes  \n",
       "0         4              0            1            1             0  \n",
       "1         4              1            0            1             0  \n",
       "2         4              1            0            0             1  \n",
       "3         5              0            1            0             1  \n",
       "4         3              0            1            1             0  \n",
       "..      ...            ...          ...          ...           ...  \n",
       "596       5              0            1            0             1  \n",
       "597       4              1            0            0             1  \n",
       "598       5              0            1            0             1  \n",
       "599       2              0            1            0             1  \n",
       "600       5              1            0            0             1  \n",
       "\n",
       "[601 rows x 11 columns]"
      ]
     },
     "execution_count": 92,
     "metadata": {},
     "output_type": "execute_result"
    }
   ],
   "source": [
    "affairs2= pd.concat([affairs2,affairs_dummy],axis=1)\n",
    "affairs2"
   ]
  },
  {
   "cell_type": "code",
   "execution_count": 93,
   "metadata": {},
   "outputs": [],
   "source": [
    "affairs2[\"AF\"]=1\n"
   ]
  },
  {
   "cell_type": "code",
   "execution_count": 98,
   "metadata": {},
   "outputs": [
    {
     "data": {
      "text/html": [
       "<div>\n",
       "<style scoped>\n",
       "    .dataframe tbody tr th:only-of-type {\n",
       "        vertical-align: middle;\n",
       "    }\n",
       "\n",
       "    .dataframe tbody tr th {\n",
       "        vertical-align: top;\n",
       "    }\n",
       "\n",
       "    .dataframe thead th {\n",
       "        text-align: right;\n",
       "    }\n",
       "</style>\n",
       "<table border=\"1\" class=\"dataframe\">\n",
       "  <thead>\n",
       "    <tr style=\"text-align: right;\">\n",
       "      <th></th>\n",
       "      <th>children_no</th>\n",
       "      <th>children_yes</th>\n",
       "      <th>AF</th>\n",
       "      <th>age</th>\n",
       "      <th>yearsmarried</th>\n",
       "      <th>religiousness</th>\n",
       "      <th>education</th>\n",
       "      <th>occupation</th>\n",
       "      <th>rating</th>\n",
       "      <th>gender_female</th>\n",
       "      <th>gender_male</th>\n",
       "    </tr>\n",
       "  </thead>\n",
       "  <tbody>\n",
       "    <tr>\n",
       "      <th>0</th>\n",
       "      <td>1</td>\n",
       "      <td>0</td>\n",
       "      <td>0</td>\n",
       "      <td>37.0</td>\n",
       "      <td>10.00</td>\n",
       "      <td>3</td>\n",
       "      <td>18</td>\n",
       "      <td>7</td>\n",
       "      <td>4</td>\n",
       "      <td>0</td>\n",
       "      <td>1</td>\n",
       "    </tr>\n",
       "    <tr>\n",
       "      <th>1</th>\n",
       "      <td>1</td>\n",
       "      <td>0</td>\n",
       "      <td>0</td>\n",
       "      <td>27.0</td>\n",
       "      <td>4.00</td>\n",
       "      <td>4</td>\n",
       "      <td>14</td>\n",
       "      <td>6</td>\n",
       "      <td>4</td>\n",
       "      <td>1</td>\n",
       "      <td>0</td>\n",
       "    </tr>\n",
       "    <tr>\n",
       "      <th>2</th>\n",
       "      <td>0</td>\n",
       "      <td>1</td>\n",
       "      <td>0</td>\n",
       "      <td>32.0</td>\n",
       "      <td>15.00</td>\n",
       "      <td>1</td>\n",
       "      <td>12</td>\n",
       "      <td>1</td>\n",
       "      <td>4</td>\n",
       "      <td>1</td>\n",
       "      <td>0</td>\n",
       "    </tr>\n",
       "    <tr>\n",
       "      <th>3</th>\n",
       "      <td>0</td>\n",
       "      <td>1</td>\n",
       "      <td>0</td>\n",
       "      <td>57.0</td>\n",
       "      <td>15.00</td>\n",
       "      <td>5</td>\n",
       "      <td>18</td>\n",
       "      <td>6</td>\n",
       "      <td>5</td>\n",
       "      <td>0</td>\n",
       "      <td>1</td>\n",
       "    </tr>\n",
       "    <tr>\n",
       "      <th>4</th>\n",
       "      <td>1</td>\n",
       "      <td>0</td>\n",
       "      <td>0</td>\n",
       "      <td>22.0</td>\n",
       "      <td>0.75</td>\n",
       "      <td>2</td>\n",
       "      <td>17</td>\n",
       "      <td>6</td>\n",
       "      <td>3</td>\n",
       "      <td>0</td>\n",
       "      <td>1</td>\n",
       "    </tr>\n",
       "    <tr>\n",
       "      <th>...</th>\n",
       "      <td>...</td>\n",
       "      <td>...</td>\n",
       "      <td>...</td>\n",
       "      <td>...</td>\n",
       "      <td>...</td>\n",
       "      <td>...</td>\n",
       "      <td>...</td>\n",
       "      <td>...</td>\n",
       "      <td>...</td>\n",
       "      <td>...</td>\n",
       "      <td>...</td>\n",
       "    </tr>\n",
       "    <tr>\n",
       "      <th>596</th>\n",
       "      <td>0</td>\n",
       "      <td>1</td>\n",
       "      <td>1</td>\n",
       "      <td>22.0</td>\n",
       "      <td>1.50</td>\n",
       "      <td>1</td>\n",
       "      <td>12</td>\n",
       "      <td>2</td>\n",
       "      <td>5</td>\n",
       "      <td>0</td>\n",
       "      <td>1</td>\n",
       "    </tr>\n",
       "    <tr>\n",
       "      <th>597</th>\n",
       "      <td>0</td>\n",
       "      <td>1</td>\n",
       "      <td>1</td>\n",
       "      <td>32.0</td>\n",
       "      <td>10.00</td>\n",
       "      <td>2</td>\n",
       "      <td>18</td>\n",
       "      <td>5</td>\n",
       "      <td>4</td>\n",
       "      <td>1</td>\n",
       "      <td>0</td>\n",
       "    </tr>\n",
       "    <tr>\n",
       "      <th>598</th>\n",
       "      <td>0</td>\n",
       "      <td>1</td>\n",
       "      <td>1</td>\n",
       "      <td>32.0</td>\n",
       "      <td>10.00</td>\n",
       "      <td>2</td>\n",
       "      <td>17</td>\n",
       "      <td>6</td>\n",
       "      <td>5</td>\n",
       "      <td>0</td>\n",
       "      <td>1</td>\n",
       "    </tr>\n",
       "    <tr>\n",
       "      <th>599</th>\n",
       "      <td>0</td>\n",
       "      <td>1</td>\n",
       "      <td>1</td>\n",
       "      <td>22.0</td>\n",
       "      <td>7.00</td>\n",
       "      <td>3</td>\n",
       "      <td>18</td>\n",
       "      <td>6</td>\n",
       "      <td>2</td>\n",
       "      <td>0</td>\n",
       "      <td>1</td>\n",
       "    </tr>\n",
       "    <tr>\n",
       "      <th>600</th>\n",
       "      <td>0</td>\n",
       "      <td>1</td>\n",
       "      <td>1</td>\n",
       "      <td>32.0</td>\n",
       "      <td>15.00</td>\n",
       "      <td>3</td>\n",
       "      <td>14</td>\n",
       "      <td>1</td>\n",
       "      <td>5</td>\n",
       "      <td>1</td>\n",
       "      <td>0</td>\n",
       "    </tr>\n",
       "  </tbody>\n",
       "</table>\n",
       "<p>601 rows × 11 columns</p>\n",
       "</div>"
      ],
      "text/plain": [
       "     children_no  children_yes  AF   age  yearsmarried  religiousness  \\\n",
       "0              1             0   0  37.0         10.00              3   \n",
       "1              1             0   0  27.0          4.00              4   \n",
       "2              0             1   0  32.0         15.00              1   \n",
       "3              0             1   0  57.0         15.00              5   \n",
       "4              1             0   0  22.0          0.75              2   \n",
       "..           ...           ...  ..   ...           ...            ...   \n",
       "596            0             1   1  22.0          1.50              1   \n",
       "597            0             1   1  32.0         10.00              2   \n",
       "598            0             1   1  32.0         10.00              2   \n",
       "599            0             1   1  22.0          7.00              3   \n",
       "600            0             1   1  32.0         15.00              3   \n",
       "\n",
       "     education  occupation  rating  gender_female  gender_male  \n",
       "0           18           7       4              0            1  \n",
       "1           14           6       4              1            0  \n",
       "2           12           1       4              1            0  \n",
       "3           18           6       5              0            1  \n",
       "4           17           6       3              0            1  \n",
       "..         ...         ...     ...            ...          ...  \n",
       "596         12           2       5              0            1  \n",
       "597         18           5       4              1            0  \n",
       "598         17           6       5              0            1  \n",
       "599         18           6       2              0            1  \n",
       "600         14           1       5              1            0  \n",
       "\n",
       "[601 rows x 11 columns]"
      ]
     },
     "execution_count": 98,
     "metadata": {},
     "output_type": "execute_result"
    }
   ],
   "source": [
    "affairs2=affairs2.iloc[:,[10,0,1,2,3,4,5,6,7,8,9]]\n",
    "affairs2"
   ]
  },
  {
   "cell_type": "code",
   "execution_count": 99,
   "metadata": {},
   "outputs": [
    {
     "data": {
      "text/plain": [
       "<bound method DataFrame.info of      children_no  children_yes  AF   age  yearsmarried  religiousness  \\\n",
       "0              1             0   0  37.0         10.00              3   \n",
       "1              1             0   0  27.0          4.00              4   \n",
       "2              0             1   0  32.0         15.00              1   \n",
       "3              0             1   0  57.0         15.00              5   \n",
       "4              1             0   0  22.0          0.75              2   \n",
       "..           ...           ...  ..   ...           ...            ...   \n",
       "596            0             1   1  22.0          1.50              1   \n",
       "597            0             1   1  32.0         10.00              2   \n",
       "598            0             1   1  32.0         10.00              2   \n",
       "599            0             1   1  22.0          7.00              3   \n",
       "600            0             1   1  32.0         15.00              3   \n",
       "\n",
       "     education  occupation  rating  gender_female  gender_male  \n",
       "0           18           7       4              0            1  \n",
       "1           14           6       4              1            0  \n",
       "2           12           1       4              1            0  \n",
       "3           18           6       5              0            1  \n",
       "4           17           6       3              0            1  \n",
       "..         ...         ...     ...            ...          ...  \n",
       "596         12           2       5              0            1  \n",
       "597         18           5       4              1            0  \n",
       "598         17           6       5              0            1  \n",
       "599         18           6       2              0            1  \n",
       "600         14           1       5              1            0  \n",
       "\n",
       "[601 rows x 11 columns]>"
      ]
     },
     "execution_count": 99,
     "metadata": {},
     "output_type": "execute_result"
    }
   ],
   "source": [
    "affairs2.info"
   ]
  },
  {
   "cell_type": "code",
   "execution_count": 100,
   "metadata": {},
   "outputs": [
    {
     "data": {
      "text/html": [
       "<div>\n",
       "<style scoped>\n",
       "    .dataframe tbody tr th:only-of-type {\n",
       "        vertical-align: middle;\n",
       "    }\n",
       "\n",
       "    .dataframe tbody tr th {\n",
       "        vertical-align: top;\n",
       "    }\n",
       "\n",
       "    .dataframe thead th {\n",
       "        text-align: right;\n",
       "    }\n",
       "</style>\n",
       "<table border=\"1\" class=\"dataframe\">\n",
       "  <thead>\n",
       "    <tr style=\"text-align: right;\">\n",
       "      <th></th>\n",
       "      <th>children_no</th>\n",
       "      <th>children_yes</th>\n",
       "      <th>AF</th>\n",
       "      <th>age</th>\n",
       "      <th>yearsmarried</th>\n",
       "      <th>religiousness</th>\n",
       "      <th>education</th>\n",
       "      <th>occupation</th>\n",
       "      <th>rating</th>\n",
       "      <th>gender_female</th>\n",
       "      <th>gender_male</th>\n",
       "    </tr>\n",
       "  </thead>\n",
       "  <tbody>\n",
       "    <tr>\n",
       "      <th>0</th>\n",
       "      <td>1</td>\n",
       "      <td>0</td>\n",
       "      <td>0</td>\n",
       "      <td>37.0</td>\n",
       "      <td>10.00</td>\n",
       "      <td>3</td>\n",
       "      <td>18</td>\n",
       "      <td>7</td>\n",
       "      <td>4</td>\n",
       "      <td>0</td>\n",
       "      <td>1</td>\n",
       "    </tr>\n",
       "    <tr>\n",
       "      <th>1</th>\n",
       "      <td>1</td>\n",
       "      <td>0</td>\n",
       "      <td>0</td>\n",
       "      <td>27.0</td>\n",
       "      <td>4.00</td>\n",
       "      <td>4</td>\n",
       "      <td>14</td>\n",
       "      <td>6</td>\n",
       "      <td>4</td>\n",
       "      <td>1</td>\n",
       "      <td>0</td>\n",
       "    </tr>\n",
       "    <tr>\n",
       "      <th>2</th>\n",
       "      <td>0</td>\n",
       "      <td>1</td>\n",
       "      <td>0</td>\n",
       "      <td>32.0</td>\n",
       "      <td>15.00</td>\n",
       "      <td>1</td>\n",
       "      <td>12</td>\n",
       "      <td>1</td>\n",
       "      <td>4</td>\n",
       "      <td>1</td>\n",
       "      <td>0</td>\n",
       "    </tr>\n",
       "    <tr>\n",
       "      <th>3</th>\n",
       "      <td>0</td>\n",
       "      <td>1</td>\n",
       "      <td>0</td>\n",
       "      <td>57.0</td>\n",
       "      <td>15.00</td>\n",
       "      <td>5</td>\n",
       "      <td>18</td>\n",
       "      <td>6</td>\n",
       "      <td>5</td>\n",
       "      <td>0</td>\n",
       "      <td>1</td>\n",
       "    </tr>\n",
       "    <tr>\n",
       "      <th>4</th>\n",
       "      <td>1</td>\n",
       "      <td>0</td>\n",
       "      <td>0</td>\n",
       "      <td>22.0</td>\n",
       "      <td>0.75</td>\n",
       "      <td>2</td>\n",
       "      <td>17</td>\n",
       "      <td>6</td>\n",
       "      <td>3</td>\n",
       "      <td>0</td>\n",
       "      <td>1</td>\n",
       "    </tr>\n",
       "    <tr>\n",
       "      <th>...</th>\n",
       "      <td>...</td>\n",
       "      <td>...</td>\n",
       "      <td>...</td>\n",
       "      <td>...</td>\n",
       "      <td>...</td>\n",
       "      <td>...</td>\n",
       "      <td>...</td>\n",
       "      <td>...</td>\n",
       "      <td>...</td>\n",
       "      <td>...</td>\n",
       "      <td>...</td>\n",
       "    </tr>\n",
       "    <tr>\n",
       "      <th>596</th>\n",
       "      <td>0</td>\n",
       "      <td>1</td>\n",
       "      <td>1</td>\n",
       "      <td>22.0</td>\n",
       "      <td>1.50</td>\n",
       "      <td>1</td>\n",
       "      <td>12</td>\n",
       "      <td>2</td>\n",
       "      <td>5</td>\n",
       "      <td>0</td>\n",
       "      <td>1</td>\n",
       "    </tr>\n",
       "    <tr>\n",
       "      <th>597</th>\n",
       "      <td>0</td>\n",
       "      <td>1</td>\n",
       "      <td>1</td>\n",
       "      <td>32.0</td>\n",
       "      <td>10.00</td>\n",
       "      <td>2</td>\n",
       "      <td>18</td>\n",
       "      <td>5</td>\n",
       "      <td>4</td>\n",
       "      <td>1</td>\n",
       "      <td>0</td>\n",
       "    </tr>\n",
       "    <tr>\n",
       "      <th>598</th>\n",
       "      <td>0</td>\n",
       "      <td>1</td>\n",
       "      <td>1</td>\n",
       "      <td>32.0</td>\n",
       "      <td>10.00</td>\n",
       "      <td>2</td>\n",
       "      <td>17</td>\n",
       "      <td>6</td>\n",
       "      <td>5</td>\n",
       "      <td>0</td>\n",
       "      <td>1</td>\n",
       "    </tr>\n",
       "    <tr>\n",
       "      <th>599</th>\n",
       "      <td>0</td>\n",
       "      <td>1</td>\n",
       "      <td>1</td>\n",
       "      <td>22.0</td>\n",
       "      <td>7.00</td>\n",
       "      <td>3</td>\n",
       "      <td>18</td>\n",
       "      <td>6</td>\n",
       "      <td>2</td>\n",
       "      <td>0</td>\n",
       "      <td>1</td>\n",
       "    </tr>\n",
       "    <tr>\n",
       "      <th>600</th>\n",
       "      <td>0</td>\n",
       "      <td>1</td>\n",
       "      <td>1</td>\n",
       "      <td>32.0</td>\n",
       "      <td>15.00</td>\n",
       "      <td>3</td>\n",
       "      <td>14</td>\n",
       "      <td>1</td>\n",
       "      <td>5</td>\n",
       "      <td>1</td>\n",
       "      <td>0</td>\n",
       "    </tr>\n",
       "  </tbody>\n",
       "</table>\n",
       "<p>601 rows × 11 columns</p>\n",
       "</div>"
      ],
      "text/plain": [
       "     children_no  children_yes  AF   age  yearsmarried religiousness  \\\n",
       "0              1             0   0  37.0         10.00             3   \n",
       "1              1             0   0  27.0          4.00             4   \n",
       "2              0             1   0  32.0         15.00             1   \n",
       "3              0             1   0  57.0         15.00             5   \n",
       "4              1             0   0  22.0          0.75             2   \n",
       "..           ...           ...  ..   ...           ...           ...   \n",
       "596            0             1   1  22.0          1.50             1   \n",
       "597            0             1   1  32.0         10.00             2   \n",
       "598            0             1   1  32.0         10.00             2   \n",
       "599            0             1   1  22.0          7.00             3   \n",
       "600            0             1   1  32.0         15.00             3   \n",
       "\n",
       "     education  occupation  rating  gender_female  gender_male  \n",
       "0           18           7       4              0            1  \n",
       "1           14           6       4              1            0  \n",
       "2           12           1       4              1            0  \n",
       "3           18           6       5              0            1  \n",
       "4           17           6       3              0            1  \n",
       "..         ...         ...     ...            ...          ...  \n",
       "596         12           2       5              0            1  \n",
       "597         18           5       4              1            0  \n",
       "598         17           6       5              0            1  \n",
       "599         18           6       2              0            1  \n",
       "600         14           1       5              1            0  \n",
       "\n",
       "[601 rows x 11 columns]"
      ]
     },
     "execution_count": 100,
     "metadata": {},
     "output_type": "execute_result"
    }
   ],
   "source": [
    "affairs2[\"religiousness\"]= pd.Categorical(affairs2[\"religiousness\"])\n",
    "affairs2"
   ]
  },
  {
   "cell_type": "code",
   "execution_count": 120,
   "metadata": {},
   "outputs": [],
   "source": [
    "affairs2[\"rating\"]=pd.Categorical(affairs2[\"rating\"])"
   ]
  },
  {
   "cell_type": "code",
   "execution_count": 104,
   "metadata": {},
   "outputs": [],
   "source": [
    "affairs2[\"occupation\"]=pd.Categorical(affairs2[\"occupation\"])"
   ]
  },
  {
   "cell_type": "code",
   "execution_count": 105,
   "metadata": {},
   "outputs": [],
   "source": [
    "affairs2[\"gender_male\"]=pd.Categorical(affairs2[\"gender_male\"])"
   ]
  },
  {
   "cell_type": "code",
   "execution_count": 117,
   "metadata": {
    "scrolled": true
   },
   "outputs": [
    {
     "data": {
      "text/html": [
       "<div>\n",
       "<style scoped>\n",
       "    .dataframe tbody tr th:only-of-type {\n",
       "        vertical-align: middle;\n",
       "    }\n",
       "\n",
       "    .dataframe tbody tr th {\n",
       "        vertical-align: top;\n",
       "    }\n",
       "\n",
       "    .dataframe thead th {\n",
       "        text-align: right;\n",
       "    }\n",
       "</style>\n",
       "<table border=\"1\" class=\"dataframe\">\n",
       "  <thead>\n",
       "    <tr style=\"text-align: right;\">\n",
       "      <th></th>\n",
       "      <th>children_no</th>\n",
       "      <th>children_yes</th>\n",
       "      <th>AF</th>\n",
       "      <th>age</th>\n",
       "      <th>yearsmarried</th>\n",
       "      <th>religiousness</th>\n",
       "      <th>education</th>\n",
       "      <th>occupation</th>\n",
       "      <th>rating</th>\n",
       "      <th>gender_female</th>\n",
       "      <th>gender_male</th>\n",
       "    </tr>\n",
       "  </thead>\n",
       "  <tbody>\n",
       "    <tr>\n",
       "      <th>0</th>\n",
       "      <td>1</td>\n",
       "      <td>0</td>\n",
       "      <td>0</td>\n",
       "      <td>37.0</td>\n",
       "      <td>10.00</td>\n",
       "      <td>3</td>\n",
       "      <td>18</td>\n",
       "      <td>7</td>\n",
       "      <td>4</td>\n",
       "      <td>0</td>\n",
       "      <td>1</td>\n",
       "    </tr>\n",
       "    <tr>\n",
       "      <th>1</th>\n",
       "      <td>1</td>\n",
       "      <td>0</td>\n",
       "      <td>0</td>\n",
       "      <td>27.0</td>\n",
       "      <td>4.00</td>\n",
       "      <td>4</td>\n",
       "      <td>14</td>\n",
       "      <td>6</td>\n",
       "      <td>4</td>\n",
       "      <td>1</td>\n",
       "      <td>0</td>\n",
       "    </tr>\n",
       "    <tr>\n",
       "      <th>2</th>\n",
       "      <td>0</td>\n",
       "      <td>1</td>\n",
       "      <td>0</td>\n",
       "      <td>32.0</td>\n",
       "      <td>15.00</td>\n",
       "      <td>1</td>\n",
       "      <td>12</td>\n",
       "      <td>1</td>\n",
       "      <td>4</td>\n",
       "      <td>1</td>\n",
       "      <td>0</td>\n",
       "    </tr>\n",
       "    <tr>\n",
       "      <th>3</th>\n",
       "      <td>0</td>\n",
       "      <td>1</td>\n",
       "      <td>0</td>\n",
       "      <td>57.0</td>\n",
       "      <td>15.00</td>\n",
       "      <td>5</td>\n",
       "      <td>18</td>\n",
       "      <td>6</td>\n",
       "      <td>5</td>\n",
       "      <td>0</td>\n",
       "      <td>1</td>\n",
       "    </tr>\n",
       "    <tr>\n",
       "      <th>4</th>\n",
       "      <td>1</td>\n",
       "      <td>0</td>\n",
       "      <td>0</td>\n",
       "      <td>22.0</td>\n",
       "      <td>0.75</td>\n",
       "      <td>2</td>\n",
       "      <td>17</td>\n",
       "      <td>6</td>\n",
       "      <td>3</td>\n",
       "      <td>0</td>\n",
       "      <td>1</td>\n",
       "    </tr>\n",
       "    <tr>\n",
       "      <th>...</th>\n",
       "      <td>...</td>\n",
       "      <td>...</td>\n",
       "      <td>...</td>\n",
       "      <td>...</td>\n",
       "      <td>...</td>\n",
       "      <td>...</td>\n",
       "      <td>...</td>\n",
       "      <td>...</td>\n",
       "      <td>...</td>\n",
       "      <td>...</td>\n",
       "      <td>...</td>\n",
       "    </tr>\n",
       "    <tr>\n",
       "      <th>596</th>\n",
       "      <td>0</td>\n",
       "      <td>1</td>\n",
       "      <td>1</td>\n",
       "      <td>22.0</td>\n",
       "      <td>1.50</td>\n",
       "      <td>1</td>\n",
       "      <td>12</td>\n",
       "      <td>2</td>\n",
       "      <td>5</td>\n",
       "      <td>0</td>\n",
       "      <td>1</td>\n",
       "    </tr>\n",
       "    <tr>\n",
       "      <th>597</th>\n",
       "      <td>0</td>\n",
       "      <td>1</td>\n",
       "      <td>1</td>\n",
       "      <td>32.0</td>\n",
       "      <td>10.00</td>\n",
       "      <td>2</td>\n",
       "      <td>18</td>\n",
       "      <td>5</td>\n",
       "      <td>4</td>\n",
       "      <td>1</td>\n",
       "      <td>0</td>\n",
       "    </tr>\n",
       "    <tr>\n",
       "      <th>598</th>\n",
       "      <td>0</td>\n",
       "      <td>1</td>\n",
       "      <td>1</td>\n",
       "      <td>32.0</td>\n",
       "      <td>10.00</td>\n",
       "      <td>2</td>\n",
       "      <td>17</td>\n",
       "      <td>6</td>\n",
       "      <td>5</td>\n",
       "      <td>0</td>\n",
       "      <td>1</td>\n",
       "    </tr>\n",
       "    <tr>\n",
       "      <th>599</th>\n",
       "      <td>0</td>\n",
       "      <td>1</td>\n",
       "      <td>1</td>\n",
       "      <td>22.0</td>\n",
       "      <td>7.00</td>\n",
       "      <td>3</td>\n",
       "      <td>18</td>\n",
       "      <td>6</td>\n",
       "      <td>2</td>\n",
       "      <td>0</td>\n",
       "      <td>1</td>\n",
       "    </tr>\n",
       "    <tr>\n",
       "      <th>600</th>\n",
       "      <td>0</td>\n",
       "      <td>1</td>\n",
       "      <td>1</td>\n",
       "      <td>32.0</td>\n",
       "      <td>15.00</td>\n",
       "      <td>3</td>\n",
       "      <td>14</td>\n",
       "      <td>1</td>\n",
       "      <td>5</td>\n",
       "      <td>1</td>\n",
       "      <td>0</td>\n",
       "    </tr>\n",
       "  </tbody>\n",
       "</table>\n",
       "<p>601 rows × 11 columns</p>\n",
       "</div>"
      ],
      "text/plain": [
       "     children_no children_yes  AF   age  yearsmarried religiousness  \\\n",
       "0              1            0   0  37.0         10.00             3   \n",
       "1              1            0   0  27.0          4.00             4   \n",
       "2              0            1   0  32.0         15.00             1   \n",
       "3              0            1   0  57.0         15.00             5   \n",
       "4              1            0   0  22.0          0.75             2   \n",
       "..           ...          ...  ..   ...           ...           ...   \n",
       "596            0            1   1  22.0          1.50             1   \n",
       "597            0            1   1  32.0         10.00             2   \n",
       "598            0            1   1  32.0         10.00             2   \n",
       "599            0            1   1  22.0          7.00             3   \n",
       "600            0            1   1  32.0         15.00             3   \n",
       "\n",
       "     education occupation rating  gender_female gender_male  \n",
       "0           18          7      4              0           1  \n",
       "1           14          6      4              1           0  \n",
       "2           12          1      4              1           0  \n",
       "3           18          6      5              0           1  \n",
       "4           17          6      3              0           1  \n",
       "..         ...        ...    ...            ...         ...  \n",
       "596         12          2      5              0           1  \n",
       "597         18          5      4              1           0  \n",
       "598         17          6      5              0           1  \n",
       "599         18          6      2              0           1  \n",
       "600         14          1      5              1           0  \n",
       "\n",
       "[601 rows x 11 columns]"
      ]
     },
     "execution_count": 117,
     "metadata": {},
     "output_type": "execute_result"
    }
   ],
   "source": [
    "affairs2[\"children_yes\"]= pd.Categorical(affairs2[\"children_yes\"])\n",
    "affairs2"
   ]
  },
  {
   "cell_type": "code",
   "execution_count": 119,
   "metadata": {},
   "outputs": [],
   "source": [
    "### Splitting the data into train and test data \n",
    "from sklearn.model_selection import train_test_split\n",
    "train_data,test_data = train_test_split(affairs2, test_size = 0.3) # 30% test data 70% train data\n"
   ]
  },
  {
   "cell_type": "code",
   "execution_count": 128,
   "metadata": {},
   "outputs": [
    {
     "name": "stdout",
     "output_type": "stream",
     "text": [
      "Optimization terminated successfully.\n",
      "         Current function value: 0.468182\n",
      "         Iterations 10\n"
     ]
    },
    {
     "data": {
      "text/html": [
       "<table class=\"simpletable\">\n",
       "<caption>Logit Regression Results</caption>\n",
       "<tr>\n",
       "  <th>Dep. Variable:</th>          <td>AF</td>        <th>  No. Observations:  </th>  <td>   420</td>  \n",
       "</tr>\n",
       "<tr>\n",
       "  <th>Model:</th>                 <td>Logit</td>      <th>  Df Residuals:      </th>  <td>   400</td>  \n",
       "</tr>\n",
       "<tr>\n",
       "  <th>Method:</th>                 <td>MLE</td>       <th>  Df Model:          </th>  <td>    19</td>  \n",
       "</tr>\n",
       "<tr>\n",
       "  <th>Date:</th>            <td>Sat, 07 Aug 2021</td> <th>  Pseudo R-squ.:     </th>  <td>0.1674</td>  \n",
       "</tr>\n",
       "<tr>\n",
       "  <th>Time:</th>                <td>23:50:47</td>     <th>  Log-Likelihood:    </th> <td> -196.64</td> \n",
       "</tr>\n",
       "<tr>\n",
       "  <th>converged:</th>             <td>True</td>       <th>  LL-Null:           </th> <td> -236.18</td> \n",
       "</tr>\n",
       "<tr>\n",
       "  <th>Covariance Type:</th>     <td>nonrobust</td>    <th>  LLR p-value:       </th> <td>2.669e-09</td>\n",
       "</tr>\n",
       "</table>\n",
       "<table class=\"simpletable\">\n",
       "<tr>\n",
       "           <td></td>             <th>coef</th>     <th>std err</th>      <th>z</th>      <th>P>|z|</th>  <th>[0.025</th>    <th>0.975]</th>  \n",
       "</tr>\n",
       "<tr>\n",
       "  <th>Intercept</th>          <td>    0.0964</td> <td>      nan</td> <td>      nan</td> <td>   nan</td> <td>      nan</td> <td>      nan</td>\n",
       "</tr>\n",
       "<tr>\n",
       "  <th>religiousness[T.2]</th> <td>   -1.2454</td> <td>    0.445</td> <td>   -2.798</td> <td> 0.005</td> <td>   -2.118</td> <td>   -0.373</td>\n",
       "</tr>\n",
       "<tr>\n",
       "  <th>religiousness[T.3]</th> <td>   -0.6170</td> <td>    0.444</td> <td>   -1.391</td> <td> 0.164</td> <td>   -1.487</td> <td>    0.253</td>\n",
       "</tr>\n",
       "<tr>\n",
       "  <th>religiousness[T.4]</th> <td>   -1.5861</td> <td>    0.451</td> <td>   -3.515</td> <td> 0.000</td> <td>   -2.470</td> <td>   -0.702</td>\n",
       "</tr>\n",
       "<tr>\n",
       "  <th>religiousness[T.5]</th> <td>   -1.5470</td> <td>    0.538</td> <td>   -2.875</td> <td> 0.004</td> <td>   -2.602</td> <td>   -0.492</td>\n",
       "</tr>\n",
       "<tr>\n",
       "  <th>occupation[T.2]</th>    <td>    1.1041</td> <td>    0.941</td> <td>    1.173</td> <td> 0.241</td> <td>   -0.741</td> <td>    2.949</td>\n",
       "</tr>\n",
       "<tr>\n",
       "  <th>occupation[T.3]</th>    <td>    0.7222</td> <td>    0.553</td> <td>    1.306</td> <td> 0.192</td> <td>   -0.362</td> <td>    1.806</td>\n",
       "</tr>\n",
       "<tr>\n",
       "  <th>occupation[T.4]</th>    <td>    0.9065</td> <td>    0.520</td> <td>    1.742</td> <td> 0.081</td> <td>   -0.113</td> <td>    1.926</td>\n",
       "</tr>\n",
       "<tr>\n",
       "  <th>occupation[T.5]</th>    <td>    0.1945</td> <td>    0.431</td> <td>    0.451</td> <td> 0.652</td> <td>   -0.650</td> <td>    1.039</td>\n",
       "</tr>\n",
       "<tr>\n",
       "  <th>occupation[T.6]</th>    <td>    0.3805</td> <td>    0.510</td> <td>    0.746</td> <td> 0.455</td> <td>   -0.619</td> <td>    1.380</td>\n",
       "</tr>\n",
       "<tr>\n",
       "  <th>occupation[T.7]</th>    <td>    0.5429</td> <td>    0.813</td> <td>    0.668</td> <td> 0.504</td> <td>   -1.051</td> <td>    2.136</td>\n",
       "</tr>\n",
       "<tr>\n",
       "  <th>rating[T.2]</th>        <td>    0.4634</td> <td>    0.816</td> <td>    0.568</td> <td> 0.570</td> <td>   -1.136</td> <td>    2.063</td>\n",
       "</tr>\n",
       "<tr>\n",
       "  <th>rating[T.3]</th>        <td>   -0.5191</td> <td>    0.795</td> <td>   -0.653</td> <td> 0.514</td> <td>   -2.078</td> <td>    1.040</td>\n",
       "</tr>\n",
       "<tr>\n",
       "  <th>rating[T.4]</th>        <td>   -1.0080</td> <td>    0.785</td> <td>   -1.284</td> <td> 0.199</td> <td>   -2.547</td> <td>    0.531</td>\n",
       "</tr>\n",
       "<tr>\n",
       "  <th>rating[T.5]</th>        <td>   -1.4953</td> <td>    0.800</td> <td>   -1.870</td> <td> 0.062</td> <td>   -3.063</td> <td>    0.072</td>\n",
       "</tr>\n",
       "<tr>\n",
       "  <th>gender_male[T.1]</th>   <td>    0.1086</td> <td> 7.37e+06</td> <td> 1.47e-08</td> <td> 1.000</td> <td>-1.44e+07</td> <td> 1.44e+07</td>\n",
       "</tr>\n",
       "<tr>\n",
       "  <th>children_yes[T.1]</th>  <td>   -0.0177</td> <td> 1.13e+07</td> <td>-1.57e-09</td> <td> 1.000</td> <td>-2.21e+07</td> <td> 2.21e+07</td>\n",
       "</tr>\n",
       "<tr>\n",
       "  <th>age</th>                <td>   -0.0752</td> <td>    0.023</td> <td>   -3.213</td> <td> 0.001</td> <td>   -0.121</td> <td>   -0.029</td>\n",
       "</tr>\n",
       "<tr>\n",
       "  <th>yearsmarried</th>       <td>    0.1904</td> <td>    0.043</td> <td>    4.377</td> <td> 0.000</td> <td>    0.105</td> <td>    0.276</td>\n",
       "</tr>\n",
       "<tr>\n",
       "  <th>education</th>          <td>    0.0717</td> <td>    0.069</td> <td>    1.044</td> <td> 0.297</td> <td>   -0.063</td> <td>    0.206</td>\n",
       "</tr>\n",
       "<tr>\n",
       "  <th>gender_female</th>      <td>   -0.0122</td> <td> 7.37e+06</td> <td>-1.66e-09</td> <td> 1.000</td> <td>-1.44e+07</td> <td> 1.44e+07</td>\n",
       "</tr>\n",
       "<tr>\n",
       "  <th>children_no</th>        <td>    0.1142</td> <td> 1.13e+07</td> <td> 1.01e-08</td> <td> 1.000</td> <td>-2.21e+07</td> <td> 2.21e+07</td>\n",
       "</tr>\n",
       "</table>"
      ],
      "text/plain": [
       "<class 'statsmodels.iolib.summary.Summary'>\n",
       "\"\"\"\n",
       "                           Logit Regression Results                           \n",
       "==============================================================================\n",
       "Dep. Variable:                     AF   No. Observations:                  420\n",
       "Model:                          Logit   Df Residuals:                      400\n",
       "Method:                           MLE   Df Model:                           19\n",
       "Date:                Sat, 07 Aug 2021   Pseudo R-squ.:                  0.1674\n",
       "Time:                        23:50:47   Log-Likelihood:                -196.64\n",
       "converged:                       True   LL-Null:                       -236.18\n",
       "Covariance Type:            nonrobust   LLR p-value:                 2.669e-09\n",
       "======================================================================================\n",
       "                         coef    std err          z      P>|z|      [0.025      0.975]\n",
       "--------------------------------------------------------------------------------------\n",
       "Intercept              0.0964        nan        nan        nan         nan         nan\n",
       "religiousness[T.2]    -1.2454      0.445     -2.798      0.005      -2.118      -0.373\n",
       "religiousness[T.3]    -0.6170      0.444     -1.391      0.164      -1.487       0.253\n",
       "religiousness[T.4]    -1.5861      0.451     -3.515      0.000      -2.470      -0.702\n",
       "religiousness[T.5]    -1.5470      0.538     -2.875      0.004      -2.602      -0.492\n",
       "occupation[T.2]        1.1041      0.941      1.173      0.241      -0.741       2.949\n",
       "occupation[T.3]        0.7222      0.553      1.306      0.192      -0.362       1.806\n",
       "occupation[T.4]        0.9065      0.520      1.742      0.081      -0.113       1.926\n",
       "occupation[T.5]        0.1945      0.431      0.451      0.652      -0.650       1.039\n",
       "occupation[T.6]        0.3805      0.510      0.746      0.455      -0.619       1.380\n",
       "occupation[T.7]        0.5429      0.813      0.668      0.504      -1.051       2.136\n",
       "rating[T.2]            0.4634      0.816      0.568      0.570      -1.136       2.063\n",
       "rating[T.3]           -0.5191      0.795     -0.653      0.514      -2.078       1.040\n",
       "rating[T.4]           -1.0080      0.785     -1.284      0.199      -2.547       0.531\n",
       "rating[T.5]           -1.4953      0.800     -1.870      0.062      -3.063       0.072\n",
       "gender_male[T.1]       0.1086   7.37e+06   1.47e-08      1.000   -1.44e+07    1.44e+07\n",
       "children_yes[T.1]     -0.0177   1.13e+07  -1.57e-09      1.000   -2.21e+07    2.21e+07\n",
       "age                   -0.0752      0.023     -3.213      0.001      -0.121      -0.029\n",
       "yearsmarried           0.1904      0.043      4.377      0.000       0.105       0.276\n",
       "education              0.0717      0.069      1.044      0.297      -0.063       0.206\n",
       "gender_female         -0.0122   7.37e+06  -1.66e-09      1.000   -1.44e+07    1.44e+07\n",
       "children_no            0.1142   1.13e+07   1.01e-08      1.000   -2.21e+07    2.21e+07\n",
       "======================================================================================\n",
       "\"\"\""
      ]
     },
     "execution_count": 128,
     "metadata": {},
     "output_type": "execute_result"
    }
   ],
   "source": [
    "# Model building \n",
    "import statsmodels.formula.api as sm\n",
    "model1 = sm.logit('AF ~ age+yearsmarried+religiousness+education+occupation+rating+gender_female+gender_male+children_no+children_yes', data = train_data).fit()\n",
    "model1.summary()"
   ]
  },
  {
   "cell_type": "code",
   "execution_count": 132,
   "metadata": {},
   "outputs": [
    {
     "data": {
      "text/plain": [
       "43     0.315097\n",
       "426    0.281467\n",
       "555    0.643698\n",
       "514    0.491138\n",
       "196    0.394100\n",
       "         ...   \n",
       "379    0.054966\n",
       "9      0.097927\n",
       "64     0.177463\n",
       "484    0.159672\n",
       "245    0.301297\n",
       "Length: 181, dtype: float64"
      ]
     },
     "execution_count": 132,
     "metadata": {},
     "output_type": "execute_result"
    }
   ],
   "source": [
    "## Evaluation of the model\n",
    "predict_test = model1.predict(pd.DataFrame(test_data[['age','yearsmarried','religiousness','education','occupation','rating','gender_female','gender_male','children_no','children_yes']]))\n",
    "predict_test"
   ]
  },
  {
   "cell_type": "code",
   "execution_count": 133,
   "metadata": {},
   "outputs": [],
   "source": [
    "from sklearn.metrics import confusion_matrix\n",
    "from sklearn.metrics import accuracy_score"
   ]
  },
  {
   "cell_type": "code",
   "execution_count": 134,
   "metadata": {},
   "outputs": [
    {
     "data": {
      "text/plain": [
       "array([[124,  12],\n",
       "       [ 32,  13]], dtype=int64)"
      ]
     },
     "execution_count": 134,
     "metadata": {},
     "output_type": "execute_result"
    }
   ],
   "source": [
    "cnf_test_matrix = confusion_matrix(test_data['AF'], predict_test > 0.5 )\n",
    "cnf_test_matrix"
   ]
  },
  {
   "cell_type": "code",
   "execution_count": 135,
   "metadata": {},
   "outputs": [
    {
     "name": "stdout",
     "output_type": "stream",
     "text": [
      "0.7569060773480663\n"
     ]
    }
   ],
   "source": [
    "print(accuracy_score(test_data.AF, predict_test > 0.5))"
   ]
  },
  {
   "cell_type": "code",
   "execution_count": 137,
   "metadata": {},
   "outputs": [
    {
     "data": {
      "text/plain": [
       "436    0.184739\n",
       "589    0.889841\n",
       "371    0.301458\n",
       "315    0.021772\n",
       "573    0.420631\n",
       "         ...   \n",
       "504    0.129469\n",
       "353    0.041639\n",
       "220    0.396597\n",
       "575    0.507310\n",
       "145    0.204916\n",
       "Length: 420, dtype: float64"
      ]
     },
     "execution_count": 137,
     "metadata": {},
     "output_type": "execute_result"
    }
   ],
   "source": [
    "## Error on train data\n",
    "predict_train = model1.predict(pd.DataFrame(train_data[['age','yearsmarried','religiousness','education','occupation','rating','gender_female','gender_male','children_no','children_yes']]))\n",
    "predict_train"
   ]
  },
  {
   "cell_type": "code",
   "execution_count": 138,
   "metadata": {},
   "outputs": [
    {
     "data": {
      "text/plain": [
       "array([[297,  18],\n",
       "       [ 76,  29]], dtype=int64)"
      ]
     },
     "execution_count": 138,
     "metadata": {},
     "output_type": "execute_result"
    }
   ],
   "source": [
    "cnf_train_matrix = confusion_matrix(train_data['AF'], predict_train > 0.5 )\n",
    "cnf_train_matrix"
   ]
  },
  {
   "cell_type": "code",
   "execution_count": 140,
   "metadata": {},
   "outputs": [
    {
     "name": "stdout",
     "output_type": "stream",
     "text": [
      "0.7761904761904762\n"
     ]
    }
   ],
   "source": [
    "print(accuracy_score(train_data.AF, predict_train > 0.5))"
   ]
  },
  {
   "cell_type": "code",
   "execution_count": null,
   "metadata": {},
   "outputs": [],
   "source": []
  }
 ],
 "metadata": {
  "kernelspec": {
   "display_name": "Python 3",
   "language": "python",
   "name": "python3"
  },
  "language_info": {
   "codemirror_mode": {
    "name": "ipython",
    "version": 3
   },
   "file_extension": ".py",
   "mimetype": "text/x-python",
   "name": "python",
   "nbconvert_exporter": "python",
   "pygments_lexer": "ipython3",
   "version": "3.8.5"
  }
 },
 "nbformat": 4,
 "nbformat_minor": 4
}
